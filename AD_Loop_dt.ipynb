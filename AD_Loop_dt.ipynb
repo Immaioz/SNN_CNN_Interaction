{
 "cells": [
  {
   "cell_type": "code",
   "execution_count": 1,
   "metadata": {},
   "outputs": [],
   "source": [
    "import cv2\n",
    "import tensorflow as tf\n",
    "import matplotlib.pyplot as plt\n",
    "import numpy as np\n",
    "import random\n",
    "import pandas as pd\n",
    "import keras\n",
    "import os\n",
    "\n",
    "from tensorflow.keras.models import Model\n",
    "from tensorflow.keras.layers import Dense, Input\n",
    "\n",
    "\n",
    "#model = keras.saving.load_model(\"AD_Loop_base.keras\")"
   ]
  },
  {
   "cell_type": "code",
   "execution_count": 2,
   "metadata": {},
   "outputs": [],
   "source": [
    "import pandas as pd\n",
    "\n",
    "data_df = pd.read_csv(\"training_mixed_set/training_mixed_frames_labels.csv\")\n",
    "data_df.head()\n",
    "data_df[\"frame_id\"] = data_df[\"frame_id\"].astype(str)\n",
    "for i,name in enumerate(data_df[\"frame_id\"]):\n",
    "    data_df.loc[i,\"frame_id\"] = \"training_mixed_set/unlabeled_set/\"+ (name).zfill(6) + \"_512_512.jpg\"\n",
    "  # labels[\"frame_id\"].iloc[i] = str(name).zfill(6)\n",
    "# data_df[\"label\"].unique()\n",
    "\n",
    "data_df[\"label\"] = data_df[\"label\"].astype(str)\n",
    "for i,lab in enumerate(data_df[\"label\"]):\n",
    "    if lab == str(0):\n",
    "        data_df.loc[i,\"label\"] = \"Normal\"\n",
    "    else:\n",
    "        data_df.loc[i,\"label\"] = \"Anomaly\""
   ]
  },
  {
   "cell_type": "code",
   "execution_count": 4,
   "metadata": {},
   "outputs": [],
   "source": [
    "envs = pd.read_csv(\"metadata/training_mixed_set_frames_envs.csv\")"
   ]
  },
  {
   "cell_type": "code",
   "execution_count": 16,
   "metadata": {},
   "outputs": [],
   "source": [
    "env_df = envs[envs[\"env\"] == 1]"
   ]
  },
  {
   "cell_type": "code",
   "execution_count": 14,
   "metadata": {},
   "outputs": [
    {
     "name": "stderr",
     "output_type": "stream",
     "text": [
      "C:\\Users\\anton\\AppData\\Local\\Temp\\ipykernel_54280\\2980095968.py:1: FutureWarning: Setting an item of incompatible dtype is deprecated and will raise in a future error of pandas. Value '['0' '1' '2' ... '119149' '119150' '119151']' has dtype incompatible with int64, please explicitly cast to a compatible dtype first.\n",
      "  env_df.loc[:,\"frame_id\"] = (env_df.loc[:,\"frame_id\"]).astype(str)\n"
     ]
    }
   ],
   "source": [
    "env_df.loc[:,\"frame_id\"] = (env_df.loc[:,\"frame_id\"]).astype(str)"
   ]
  },
  {
   "cell_type": "code",
   "execution_count": 17,
   "metadata": {},
   "outputs": [],
   "source": [
    "env1_list = []\n",
    "for name in env_df[\"frame_id\"]:\n",
    "    env1_list.append(\"training_mixed_set/unlabeled_set/\"+ (str(name)).zfill(6) + \"_512_512.jpg\")"
   ]
  },
  {
   "cell_type": "code",
   "execution_count": 18,
   "metadata": {},
   "outputs": [
    {
     "data": {
      "text/html": [
       "<div>\n",
       "<style scoped>\n",
       "    .dataframe tbody tr th:only-of-type {\n",
       "        vertical-align: middle;\n",
       "    }\n",
       "\n",
       "    .dataframe tbody tr th {\n",
       "        vertical-align: top;\n",
       "    }\n",
       "\n",
       "    .dataframe thead th {\n",
       "        text-align: right;\n",
       "    }\n",
       "</style>\n",
       "<table border=\"1\" class=\"dataframe\">\n",
       "  <thead>\n",
       "    <tr style=\"text-align: right;\">\n",
       "      <th></th>\n",
       "      <th>frame_id</th>\n",
       "      <th>label</th>\n",
       "    </tr>\n",
       "  </thead>\n",
       "  <tbody>\n",
       "    <tr>\n",
       "      <th>0</th>\n",
       "      <td>training_mixed_set/unlabeled_set/000000_512_51...</td>\n",
       "      <td>Anomaly</td>\n",
       "    </tr>\n",
       "    <tr>\n",
       "      <th>1</th>\n",
       "      <td>training_mixed_set/unlabeled_set/000001_512_51...</td>\n",
       "      <td>Anomaly</td>\n",
       "    </tr>\n",
       "    <tr>\n",
       "      <th>2</th>\n",
       "      <td>training_mixed_set/unlabeled_set/000002_512_51...</td>\n",
       "      <td>Anomaly</td>\n",
       "    </tr>\n",
       "    <tr>\n",
       "      <th>3</th>\n",
       "      <td>training_mixed_set/unlabeled_set/000003_512_51...</td>\n",
       "      <td>Anomaly</td>\n",
       "    </tr>\n",
       "    <tr>\n",
       "      <th>4</th>\n",
       "      <td>training_mixed_set/unlabeled_set/000004_512_51...</td>\n",
       "      <td>Anomaly</td>\n",
       "    </tr>\n",
       "  </tbody>\n",
       "</table>\n",
       "</div>"
      ],
      "text/plain": [
       "                                            frame_id    label\n",
       "0  training_mixed_set/unlabeled_set/000000_512_51...  Anomaly\n",
       "1  training_mixed_set/unlabeled_set/000001_512_51...  Anomaly\n",
       "2  training_mixed_set/unlabeled_set/000002_512_51...  Anomaly\n",
       "3  training_mixed_set/unlabeled_set/000003_512_51...  Anomaly\n",
       "4  training_mixed_set/unlabeled_set/000004_512_51...  Anomaly"
      ]
     },
     "execution_count": 18,
     "metadata": {},
     "output_type": "execute_result"
    }
   ],
   "source": [
    "subdata_df = data_df[data_df['frame_id'].isin(env1_list)]\n",
    "subdata_df.head()"
   ]
  },
  {
   "cell_type": "code",
   "execution_count": 19,
   "metadata": {},
   "outputs": [],
   "source": [
    "def preprocess(image):\n",
    "    return cv2.resize(tf.keras.applications.vgg19.preprocess_input(image), (512, 512))\n",
    "\n",
    "def low_res(image):\n",
    "    return preprocess(image)[0::12,0::12]\n",
    "\n",
    "def preprocess_predict(image):\n",
    "    return np.expand_dims(preprocess(image),axis=0)"
   ]
  },
  {
   "cell_type": "code",
   "execution_count": 20,
   "metadata": {},
   "outputs": [],
   "source": [
    "class utils:\n",
    "    @staticmethod\n",
    "    def preprocess(image):\n",
    "        # return image\n",
    "        return cv2.resize(image, (224, 224))\n",
    "\n",
    "    @staticmethod\n",
    "    def low_res(image):\n",
    "        return utils.preprocess(image)[0::8, 0::8]\n",
    "\n",
    "    @staticmethod\n",
    "    def preprocess_predict(image):\n",
    "        return np.expand_dims(utils.low_res(utils.to_grayscale(image)),axis=2)\n",
    "        return np.expand_dims(utils.preprocess(tf.keras.applications.vgg19.preprocess_input(image)), axis=0)\n",
    "    \n",
    "    @staticmethod\n",
    "    def acquire_image(path):\n",
    "        return cv2.imread(path,1)\n",
    "    \n",
    "    @staticmethod\n",
    "    def to_grayscale(im):\n",
    "        return (cv2.cvtColor(im, cv2.COLOR_BGR2GRAY))\n",
    "    "
   ]
  },
  {
   "cell_type": "code",
   "execution_count": 21,
   "metadata": {},
   "outputs": [],
   "source": [
    "def build_autoencoder(neurons_in=28, act_function=\"linear\", optimizer=\"adam\", hidden_layers=0):\n",
    "    # Input layer\n",
    "    input_layer = Input(shape=(784,))\n",
    "\n",
    "    encoded = Dense(300, activation='relu', name='hidden_1')(input_layer)\n",
    "    # Bottleneck layer\n",
    "    # encoded = Dense(2, activation='relu', name='bottleneck')(hidden_1)\n",
    "    # hidden_2 = Dense(neurons_in, activation='relu', name='hidden_2')(encoded)\n",
    "\n",
    "    # Output layer\n",
    "    decoded = Dense(784, activation=act_function, name='decoded')(encoded)\n",
    "\n",
    "    # Create the model\n",
    "    autoencoder = Model(inputs=input_layer, outputs=decoded)\n",
    "    autoencoder.compile(loss=\"mse\", optimizer=optimizer)\n",
    "\n",
    "    return autoencoder"
   ]
  },
  {
   "cell_type": "code",
   "execution_count": 80,
   "metadata": {},
   "outputs": [],
   "source": [
    "subdata_df.to_pickle(\"subdata_df.pkl\")"
   ]
  },
  {
   "cell_type": "code",
   "execution_count": 22,
   "metadata": {},
   "outputs": [
    {
     "data": {
      "text/plain": [
       "label\n",
       "Anomaly    0.710543\n",
       "Normal     0.289457\n",
       "Name: proportion, dtype: float64"
      ]
     },
     "execution_count": 22,
     "metadata": {},
     "output_type": "execute_result"
    }
   ],
   "source": [
    "subdata_df[\"label\"].value_counts(normalize=True)"
   ]
  },
  {
   "cell_type": "code",
   "execution_count": 23,
   "metadata": {},
   "outputs": [],
   "source": [
    "normal_df = subdata_df[subdata_df[\"label\"] == \"Normal\"]"
   ]
  },
  {
   "cell_type": "code",
   "execution_count": 68,
   "metadata": {},
   "outputs": [],
   "source": [
    "import sklearn\n",
    "from sklearn.model_selection import train_test_split\n",
    "normal_df = subdata_df[subdata_df[\"label\"] == \"Normal\"]\n",
    "_,sub_normal_df = train_test_split(normal_df, test_size=0.5, shuffle=True, random_state=42)"
   ]
  },
  {
   "cell_type": "code",
   "execution_count": 69,
   "metadata": {},
   "outputs": [],
   "source": [
    "import sklearn\n",
    "from sklearn.model_selection import train_test_split\n",
    "anormal_df = subdata_df[subdata_df[\"label\"] == \"Anomaly\"]\n",
    "_,sub_anormal_df = train_test_split(anormal_df, test_size=0.5, shuffle=True, random_state=42)"
   ]
  },
  {
   "cell_type": "code",
   "execution_count": 70,
   "metadata": {},
   "outputs": [],
   "source": [
    "tot_data = np.array([utils.preprocess_predict(utils.acquire_image(path)).reshape(-1,1) for path in sub_normal_df['frame_id']])\n",
    "tot_y = np.array([1 if label == 'Anomaly' else 0 for label in sub_normal_df['label']])"
   ]
  },
  {
   "cell_type": "code",
   "execution_count": 71,
   "metadata": {},
   "outputs": [],
   "source": [
    "import sklearn\n",
    "from sklearn.model_selection import train_test_split\n",
    "#Splitting the image_df into training and validation dataframe, shuffling the data and maitaining the ratio between classes\n",
    "X_train, X_rem, y_train, y_rem = train_test_split(tot_data, tot_y, test_size=0.2, shuffle=True, random_state=42)\n",
    "X_val,X_test,y_val, y_test = train_test_split(X_rem,y_rem, test_size=0.5, shuffle=True, random_state=42)"
   ]
  },
  {
   "cell_type": "code",
   "execution_count": 72,
   "metadata": {},
   "outputs": [],
   "source": [
    "tot_data = np.array([utils.preprocess_predict(utils.acquire_image(path)).reshape(-1,1) for path in sub_anormal_df['frame_id']])\n",
    "tot_y = np.array([1 if label == 'Anomaly' else 0 for label in sub_anormal_df['label']])"
   ]
  },
  {
   "cell_type": "code",
   "execution_count": 73,
   "metadata": {},
   "outputs": [],
   "source": [
    "X_test = np.concatenate([tot_data,X_test])\n",
    "y_test = np.concatenate([tot_y,y_test])"
   ]
  },
  {
   "cell_type": "code",
   "execution_count": 74,
   "metadata": {},
   "outputs": [],
   "source": [
    "X_train = np.reshape(X_train,(-1,784))\n",
    "X_val = np.reshape(X_val,(-1,784))\n",
    "X_test = np.reshape(X_test,(-1,784))"
   ]
  },
  {
   "cell_type": "code",
   "execution_count": 75,
   "metadata": {},
   "outputs": [
    {
     "data": {
      "text/plain": [
       "(6262, 783, 19998)"
      ]
     },
     "execution_count": 75,
     "metadata": {},
     "output_type": "execute_result"
    }
   ],
   "source": [
    "len(X_train), len(X_val), len(X_test)"
   ]
  },
  {
   "cell_type": "code",
   "execution_count": 76,
   "metadata": {},
   "outputs": [
    {
     "name": "stdout",
     "output_type": "stream",
     "text": [
      "Epoch 1/5000\n",
      "\u001b[1m196/196\u001b[0m \u001b[32m━━━━━━━━━━━━━━━━━━━━\u001b[0m\u001b[37m\u001b[0m \u001b[1m1s\u001b[0m 4ms/step - loss: 2367.9565 - val_loss: 391.4411\n",
      "Epoch 2/5000\n",
      "\u001b[1m196/196\u001b[0m \u001b[32m━━━━━━━━━━━━━━━━━━━━\u001b[0m\u001b[37m\u001b[0m \u001b[1m1s\u001b[0m 3ms/step - loss: 374.0543 - val_loss: 309.2917\n",
      "Epoch 3/5000\n",
      "\u001b[1m196/196\u001b[0m \u001b[32m━━━━━━━━━━━━━━━━━━━━\u001b[0m\u001b[37m\u001b[0m \u001b[1m1s\u001b[0m 3ms/step - loss: 305.3967 - val_loss: 264.5005\n",
      "Epoch 4/5000\n",
      "\u001b[1m196/196\u001b[0m \u001b[32m━━━━━━━━━━━━━━━━━━━━\u001b[0m\u001b[37m\u001b[0m \u001b[1m1s\u001b[0m 3ms/step - loss: 257.2429 - val_loss: 234.3906\n",
      "Epoch 5/5000\n",
      "\u001b[1m196/196\u001b[0m \u001b[32m━━━━━━━━━━━━━━━━━━━━\u001b[0m\u001b[37m\u001b[0m \u001b[1m1s\u001b[0m 3ms/step - loss: 224.5216 - val_loss: 209.6608\n",
      "Epoch 6/5000\n",
      "\u001b[1m196/196\u001b[0m \u001b[32m━━━━━━━━━━━━━━━━━━━━\u001b[0m\u001b[37m\u001b[0m \u001b[1m1s\u001b[0m 3ms/step - loss: 204.7776 - val_loss: 187.4335\n",
      "Epoch 7/5000\n",
      "\u001b[1m196/196\u001b[0m \u001b[32m━━━━━━━━━━━━━━━━━━━━\u001b[0m\u001b[37m\u001b[0m \u001b[1m1s\u001b[0m 3ms/step - loss: 188.3398 - val_loss: 171.5013\n",
      "Epoch 8/5000\n",
      "\u001b[1m196/196\u001b[0m \u001b[32m━━━━━━━━━━━━━━━━━━━━\u001b[0m\u001b[37m\u001b[0m \u001b[1m1s\u001b[0m 3ms/step - loss: 171.7315 - val_loss: 159.8530\n",
      "Epoch 9/5000\n",
      "\u001b[1m196/196\u001b[0m \u001b[32m━━━━━━━━━━━━━━━━━━━━\u001b[0m\u001b[37m\u001b[0m \u001b[1m1s\u001b[0m 3ms/step - loss: 161.4517 - val_loss: 148.7204\n",
      "Epoch 10/5000\n",
      "\u001b[1m196/196\u001b[0m \u001b[32m━━━━━━━━━━━━━━━━━━━━\u001b[0m\u001b[37m\u001b[0m \u001b[1m1s\u001b[0m 3ms/step - loss: 149.2577 - val_loss: 142.2346\n",
      "Epoch 11/5000\n",
      "\u001b[1m196/196\u001b[0m \u001b[32m━━━━━━━━━━━━━━━━━━━━\u001b[0m\u001b[37m\u001b[0m \u001b[1m1s\u001b[0m 3ms/step - loss: 140.0508 - val_loss: 133.3260\n",
      "Epoch 12/5000\n",
      "\u001b[1m196/196\u001b[0m \u001b[32m━━━━━━━━━━━━━━━━━━━━\u001b[0m\u001b[37m\u001b[0m \u001b[1m1s\u001b[0m 3ms/step - loss: 134.7322 - val_loss: 129.9366\n",
      "Epoch 13/5000\n",
      "\u001b[1m196/196\u001b[0m \u001b[32m━━━━━━━━━━━━━━━━━━━━\u001b[0m\u001b[37m\u001b[0m \u001b[1m1s\u001b[0m 3ms/step - loss: 128.4738 - val_loss: 123.3443\n",
      "Epoch 14/5000\n",
      "\u001b[1m196/196\u001b[0m \u001b[32m━━━━━━━━━━━━━━━━━━━━\u001b[0m\u001b[37m\u001b[0m \u001b[1m1s\u001b[0m 3ms/step - loss: 119.4989 - val_loss: 122.0269\n",
      "Epoch 15/5000\n",
      "\u001b[1m196/196\u001b[0m \u001b[32m━━━━━━━━━━━━━━━━━━━━\u001b[0m\u001b[37m\u001b[0m \u001b[1m1s\u001b[0m 3ms/step - loss: 118.6025 - val_loss: 114.4791\n",
      "Epoch 16/5000\n",
      "\u001b[1m196/196\u001b[0m \u001b[32m━━━━━━━━━━━━━━━━━━━━\u001b[0m\u001b[37m\u001b[0m \u001b[1m1s\u001b[0m 3ms/step - loss: 113.1340 - val_loss: 110.3614\n",
      "Epoch 17/5000\n",
      "\u001b[1m196/196\u001b[0m \u001b[32m━━━━━━━━━━━━━━━━━━━━\u001b[0m\u001b[37m\u001b[0m \u001b[1m1s\u001b[0m 3ms/step - loss: 108.4852 - val_loss: 111.4084\n",
      "Epoch 18/5000\n",
      "\u001b[1m196/196\u001b[0m \u001b[32m━━━━━━━━━━━━━━━━━━━━\u001b[0m\u001b[37m\u001b[0m \u001b[1m1s\u001b[0m 3ms/step - loss: 107.7475 - val_loss: 105.5688\n",
      "Epoch 19/5000\n",
      "\u001b[1m196/196\u001b[0m \u001b[32m━━━━━━━━━━━━━━━━━━━━\u001b[0m\u001b[37m\u001b[0m \u001b[1m1s\u001b[0m 3ms/step - loss: 103.0756 - val_loss: 101.9675\n",
      "Epoch 20/5000\n",
      "\u001b[1m196/196\u001b[0m \u001b[32m━━━━━━━━━━━━━━━━━━━━\u001b[0m\u001b[37m\u001b[0m \u001b[1m1s\u001b[0m 3ms/step - loss: 100.2787 - val_loss: 108.8488\n",
      "Epoch 21/5000\n",
      "\u001b[1m196/196\u001b[0m \u001b[32m━━━━━━━━━━━━━━━━━━━━\u001b[0m\u001b[37m\u001b[0m \u001b[1m1s\u001b[0m 3ms/step - loss: 101.2703 - val_loss: 96.6234\n",
      "Epoch 22/5000\n",
      "\u001b[1m196/196\u001b[0m \u001b[32m━━━━━━━━━━━━━━━━━━━━\u001b[0m\u001b[37m\u001b[0m \u001b[1m1s\u001b[0m 3ms/step - loss: 97.1855 - val_loss: 94.8773\n",
      "Epoch 23/5000\n",
      "\u001b[1m196/196\u001b[0m \u001b[32m━━━━━━━━━━━━━━━━━━━━\u001b[0m\u001b[37m\u001b[0m \u001b[1m1s\u001b[0m 3ms/step - loss: 95.8898 - val_loss: 100.8772\n",
      "Epoch 24/5000\n",
      "\u001b[1m196/196\u001b[0m \u001b[32m━━━━━━━━━━━━━━━━━━━━\u001b[0m\u001b[37m\u001b[0m \u001b[1m1s\u001b[0m 3ms/step - loss: 93.5333 - val_loss: 93.5502\n",
      "Epoch 25/5000\n",
      "\u001b[1m196/196\u001b[0m \u001b[32m━━━━━━━━━━━━━━━━━━━━\u001b[0m\u001b[37m\u001b[0m \u001b[1m1s\u001b[0m 3ms/step - loss: 94.1352 - val_loss: 91.5899\n",
      "Epoch 26/5000\n",
      "\u001b[1m196/196\u001b[0m \u001b[32m━━━━━━━━━━━━━━━━━━━━\u001b[0m\u001b[37m\u001b[0m \u001b[1m1s\u001b[0m 3ms/step - loss: 91.6867 - val_loss: 90.2876\n",
      "Epoch 27/5000\n",
      "\u001b[1m196/196\u001b[0m \u001b[32m━━━━━━━━━━━━━━━━━━━━\u001b[0m\u001b[37m\u001b[0m \u001b[1m1s\u001b[0m 3ms/step - loss: 92.3499 - val_loss: 89.1947\n",
      "Epoch 28/5000\n",
      "\u001b[1m196/196\u001b[0m \u001b[32m━━━━━━━━━━━━━━━━━━━━\u001b[0m\u001b[37m\u001b[0m \u001b[1m1s\u001b[0m 3ms/step - loss: 88.7771 - val_loss: 88.4387\n",
      "Epoch 29/5000\n",
      "\u001b[1m196/196\u001b[0m \u001b[32m━━━━━━━━━━━━━━━━━━━━\u001b[0m\u001b[37m\u001b[0m \u001b[1m1s\u001b[0m 3ms/step - loss: 87.7718 - val_loss: 87.5451\n",
      "Epoch 30/5000\n",
      "\u001b[1m196/196\u001b[0m \u001b[32m━━━━━━━━━━━━━━━━━━━━\u001b[0m\u001b[37m\u001b[0m \u001b[1m1s\u001b[0m 3ms/step - loss: 87.3010 - val_loss: 90.7505\n",
      "Epoch 31/5000\n",
      "\u001b[1m196/196\u001b[0m \u001b[32m━━━━━━━━━━━━━━━━━━━━\u001b[0m\u001b[37m\u001b[0m \u001b[1m1s\u001b[0m 3ms/step - loss: 88.6636 - val_loss: 85.9302\n",
      "Epoch 32/5000\n",
      "\u001b[1m196/196\u001b[0m \u001b[32m━━━━━━━━━━━━━━━━━━━━\u001b[0m\u001b[37m\u001b[0m \u001b[1m1s\u001b[0m 3ms/step - loss: 87.7398 - val_loss: 85.9683\n",
      "Epoch 33/5000\n",
      "\u001b[1m196/196\u001b[0m \u001b[32m━━━━━━━━━━━━━━━━━━━━\u001b[0m\u001b[37m\u001b[0m \u001b[1m1s\u001b[0m 3ms/step - loss: 85.7357 - val_loss: 83.9515\n",
      "Epoch 34/5000\n",
      "\u001b[1m196/196\u001b[0m \u001b[32m━━━━━━━━━━━━━━━━━━━━\u001b[0m\u001b[37m\u001b[0m \u001b[1m1s\u001b[0m 2ms/step - loss: 84.3280 - val_loss: 98.6502\n",
      "Epoch 35/5000\n",
      "\u001b[1m196/196\u001b[0m \u001b[32m━━━━━━━━━━━━━━━━━━━━\u001b[0m\u001b[37m\u001b[0m \u001b[1m1s\u001b[0m 3ms/step - loss: 86.5410 - val_loss: 93.1381\n",
      "Epoch 36/5000\n",
      "\u001b[1m196/196\u001b[0m \u001b[32m━━━━━━━━━━━━━━━━━━━━\u001b[0m\u001b[37m\u001b[0m \u001b[1m1s\u001b[0m 3ms/step - loss: 83.9537 - val_loss: 86.0453\n",
      "Epoch 37/5000\n",
      "\u001b[1m196/196\u001b[0m \u001b[32m━━━━━━━━━━━━━━━━━━━━\u001b[0m\u001b[37m\u001b[0m \u001b[1m1s\u001b[0m 3ms/step - loss: 81.8514 - val_loss: 90.1050\n",
      "Epoch 38/5000\n",
      "\u001b[1m196/196\u001b[0m \u001b[32m━━━━━━━━━━━━━━━━━━━━\u001b[0m\u001b[37m\u001b[0m \u001b[1m1s\u001b[0m 3ms/step - loss: 82.8706 - val_loss: 83.0241\n",
      "Epoch 39/5000\n",
      "\u001b[1m196/196\u001b[0m \u001b[32m━━━━━━━━━━━━━━━━━━━━\u001b[0m\u001b[37m\u001b[0m \u001b[1m1s\u001b[0m 3ms/step - loss: 82.7245 - val_loss: 81.8334\n",
      "Epoch 40/5000\n",
      "\u001b[1m196/196\u001b[0m \u001b[32m━━━━━━━━━━━━━━━━━━━━\u001b[0m\u001b[37m\u001b[0m \u001b[1m1s\u001b[0m 4ms/step - loss: 80.9584 - val_loss: 83.1408\n",
      "Epoch 41/5000\n",
      "\u001b[1m196/196\u001b[0m \u001b[32m━━━━━━━━━━━━━━━━━━━━\u001b[0m\u001b[37m\u001b[0m \u001b[1m1s\u001b[0m 5ms/step - loss: 82.5734 - val_loss: 85.2912\n",
      "Epoch 42/5000\n",
      "\u001b[1m196/196\u001b[0m \u001b[32m━━━━━━━━━━━━━━━━━━━━\u001b[0m\u001b[37m\u001b[0m \u001b[1m1s\u001b[0m 5ms/step - loss: 82.3437 - val_loss: 81.0142\n",
      "Epoch 43/5000\n",
      "\u001b[1m196/196\u001b[0m \u001b[32m━━━━━━━━━━━━━━━━━━━━\u001b[0m\u001b[37m\u001b[0m \u001b[1m1s\u001b[0m 5ms/step - loss: 79.5354 - val_loss: 81.0603\n",
      "Epoch 44/5000\n",
      "\u001b[1m196/196\u001b[0m \u001b[32m━━━━━━━━━━━━━━━━━━━━\u001b[0m\u001b[37m\u001b[0m \u001b[1m1s\u001b[0m 5ms/step - loss: 79.6157 - val_loss: 81.5686\n",
      "Epoch 45/5000\n",
      "\u001b[1m196/196\u001b[0m \u001b[32m━━━━━━━━━━━━━━━━━━━━\u001b[0m\u001b[37m\u001b[0m \u001b[1m1s\u001b[0m 4ms/step - loss: 79.9070 - val_loss: 80.6296\n",
      "Epoch 46/5000\n",
      "\u001b[1m196/196\u001b[0m \u001b[32m━━━━━━━━━━━━━━━━━━━━\u001b[0m\u001b[37m\u001b[0m \u001b[1m1s\u001b[0m 3ms/step - loss: 79.8847 - val_loss: 79.9337\n",
      "Epoch 47/5000\n",
      "\u001b[1m196/196\u001b[0m \u001b[32m━━━━━━━━━━━━━━━━━━━━\u001b[0m\u001b[37m\u001b[0m \u001b[1m1s\u001b[0m 3ms/step - loss: 80.3673 - val_loss: 83.2704\n",
      "Epoch 48/5000\n",
      "\u001b[1m196/196\u001b[0m \u001b[32m━━━━━━━━━━━━━━━━━━━━\u001b[0m\u001b[37m\u001b[0m \u001b[1m1s\u001b[0m 3ms/step - loss: 80.1625 - val_loss: 82.0041\n",
      "Epoch 49/5000\n",
      "\u001b[1m196/196\u001b[0m \u001b[32m━━━━━━━━━━━━━━━━━━━━\u001b[0m\u001b[37m\u001b[0m \u001b[1m1s\u001b[0m 2ms/step - loss: 79.2438 - val_loss: 81.2604\n",
      "Epoch 50/5000\n",
      "\u001b[1m196/196\u001b[0m \u001b[32m━━━━━━━━━━━━━━━━━━━━\u001b[0m\u001b[37m\u001b[0m \u001b[1m1s\u001b[0m 3ms/step - loss: 77.5246 - val_loss: 80.1756\n",
      "Epoch 51/5000\n",
      "\u001b[1m196/196\u001b[0m \u001b[32m━━━━━━━━━━━━━━━━━━━━\u001b[0m\u001b[37m\u001b[0m \u001b[1m1s\u001b[0m 3ms/step - loss: 79.8367 - val_loss: 80.5896\n",
      "Epoch 52/5000\n",
      "\u001b[1m196/196\u001b[0m \u001b[32m━━━━━━━━━━━━━━━━━━━━\u001b[0m\u001b[37m\u001b[0m \u001b[1m1s\u001b[0m 3ms/step - loss: 78.9209 - val_loss: 80.7357\n",
      "Epoch 53/5000\n",
      "\u001b[1m196/196\u001b[0m \u001b[32m━━━━━━━━━━━━━━━━━━━━\u001b[0m\u001b[37m\u001b[0m \u001b[1m1s\u001b[0m 3ms/step - loss: 78.7083 - val_loss: 80.2032\n",
      "Epoch 54/5000\n",
      "\u001b[1m196/196\u001b[0m \u001b[32m━━━━━━━━━━━━━━━━━━━━\u001b[0m\u001b[37m\u001b[0m \u001b[1m1s\u001b[0m 3ms/step - loss: 80.1508 - val_loss: 80.7928\n",
      "Epoch 55/5000\n",
      "\u001b[1m196/196\u001b[0m \u001b[32m━━━━━━━━━━━━━━━━━━━━\u001b[0m\u001b[37m\u001b[0m \u001b[1m1s\u001b[0m 3ms/step - loss: 79.7987 - val_loss: 79.7880\n",
      "Epoch 56/5000\n",
      "\u001b[1m196/196\u001b[0m \u001b[32m━━━━━━━━━━━━━━━━━━━━\u001b[0m\u001b[37m\u001b[0m \u001b[1m1s\u001b[0m 3ms/step - loss: 78.6893 - val_loss: 81.3685\n",
      "Epoch 57/5000\n",
      "\u001b[1m196/196\u001b[0m \u001b[32m━━━━━━━━━━━━━━━━━━━━\u001b[0m\u001b[37m\u001b[0m \u001b[1m1s\u001b[0m 3ms/step - loss: 77.7889 - val_loss: 78.8515\n",
      "Epoch 58/5000\n",
      "\u001b[1m196/196\u001b[0m \u001b[32m━━━━━━━━━━━━━━━━━━━━\u001b[0m\u001b[37m\u001b[0m \u001b[1m1s\u001b[0m 3ms/step - loss: 78.8299 - val_loss: 80.8725\n",
      "Epoch 59/5000\n",
      "\u001b[1m196/196\u001b[0m \u001b[32m━━━━━━━━━━━━━━━━━━━━\u001b[0m\u001b[37m\u001b[0m \u001b[1m1s\u001b[0m 3ms/step - loss: 77.8946 - val_loss: 99.0152\n",
      "Epoch 60/5000\n",
      "\u001b[1m196/196\u001b[0m \u001b[32m━━━━━━━━━━━━━━━━━━━━\u001b[0m\u001b[37m\u001b[0m \u001b[1m1s\u001b[0m 3ms/step - loss: 81.0166 - val_loss: 79.6597\n",
      "Epoch 61/5000\n",
      "\u001b[1m196/196\u001b[0m \u001b[32m━━━━━━━━━━━━━━━━━━━━\u001b[0m\u001b[37m\u001b[0m \u001b[1m1s\u001b[0m 3ms/step - loss: 78.5266 - val_loss: 78.5360\n",
      "Epoch 62/5000\n",
      "\u001b[1m196/196\u001b[0m \u001b[32m━━━━━━━━━━━━━━━━━━━━\u001b[0m\u001b[37m\u001b[0m \u001b[1m1s\u001b[0m 3ms/step - loss: 78.4586 - val_loss: 78.6303\n",
      "Epoch 63/5000\n",
      "\u001b[1m196/196\u001b[0m \u001b[32m━━━━━━━━━━━━━━━━━━━━\u001b[0m\u001b[37m\u001b[0m \u001b[1m1s\u001b[0m 3ms/step - loss: 77.3044 - val_loss: 79.9047\n",
      "Epoch 64/5000\n",
      "\u001b[1m196/196\u001b[0m \u001b[32m━━━━━━━━━━━━━━━━━━━━\u001b[0m\u001b[37m\u001b[0m \u001b[1m1s\u001b[0m 2ms/step - loss: 77.2353 - val_loss: 84.8447\n",
      "Epoch 65/5000\n",
      "\u001b[1m196/196\u001b[0m \u001b[32m━━━━━━━━━━━━━━━━━━━━\u001b[0m\u001b[37m\u001b[0m \u001b[1m1s\u001b[0m 5ms/step - loss: 77.9877 - val_loss: 79.1994\n",
      "Epoch 66/5000\n",
      "\u001b[1m196/196\u001b[0m \u001b[32m━━━━━━━━━━━━━━━━━━━━\u001b[0m\u001b[37m\u001b[0m \u001b[1m1s\u001b[0m 5ms/step - loss: 77.1122 - val_loss: 83.0704\n",
      "Epoch 67/5000\n",
      "\u001b[1m196/196\u001b[0m \u001b[32m━━━━━━━━━━━━━━━━━━━━\u001b[0m\u001b[37m\u001b[0m \u001b[1m1s\u001b[0m 5ms/step - loss: 77.2506 - val_loss: 78.8030\n",
      "Epoch 68/5000\n",
      "\u001b[1m196/196\u001b[0m \u001b[32m━━━━━━━━━━━━━━━━━━━━\u001b[0m\u001b[37m\u001b[0m \u001b[1m1s\u001b[0m 5ms/step - loss: 78.3471 - val_loss: 79.9444\n",
      "Epoch 69/5000\n",
      "\u001b[1m196/196\u001b[0m \u001b[32m━━━━━━━━━━━━━━━━━━━━\u001b[0m\u001b[37m\u001b[0m \u001b[1m1s\u001b[0m 5ms/step - loss: 77.3083 - val_loss: 80.2930\n",
      "Epoch 70/5000\n",
      "\u001b[1m196/196\u001b[0m \u001b[32m━━━━━━━━━━━━━━━━━━━━\u001b[0m\u001b[37m\u001b[0m \u001b[1m1s\u001b[0m 5ms/step - loss: 77.0759 - val_loss: 78.4541\n",
      "Epoch 71/5000\n",
      "\u001b[1m196/196\u001b[0m \u001b[32m━━━━━━━━━━━━━━━━━━━━\u001b[0m\u001b[37m\u001b[0m \u001b[1m1s\u001b[0m 5ms/step - loss: 77.0713 - val_loss: 79.8954\n",
      "Epoch 72/5000\n",
      "\u001b[1m196/196\u001b[0m \u001b[32m━━━━━━━━━━━━━━━━━━━━\u001b[0m\u001b[37m\u001b[0m \u001b[1m1s\u001b[0m 5ms/step - loss: 77.3798 - val_loss: 78.6638\n",
      "Epoch 73/5000\n",
      "\u001b[1m196/196\u001b[0m \u001b[32m━━━━━━━━━━━━━━━━━━━━\u001b[0m\u001b[37m\u001b[0m \u001b[1m1s\u001b[0m 5ms/step - loss: 77.8544 - val_loss: 78.3116\n",
      "Epoch 74/5000\n",
      "\u001b[1m196/196\u001b[0m \u001b[32m━━━━━━━━━━━━━━━━━━━━\u001b[0m\u001b[37m\u001b[0m \u001b[1m1s\u001b[0m 5ms/step - loss: 76.2840 - val_loss: 78.3703\n",
      "Epoch 75/5000\n",
      "\u001b[1m196/196\u001b[0m \u001b[32m━━━━━━━━━━━━━━━━━━━━\u001b[0m\u001b[37m\u001b[0m \u001b[1m1s\u001b[0m 5ms/step - loss: 76.8496 - val_loss: 77.0314\n",
      "Epoch 76/5000\n",
      "\u001b[1m196/196\u001b[0m \u001b[32m━━━━━━━━━━━━━━━━━━━━\u001b[0m\u001b[37m\u001b[0m \u001b[1m1s\u001b[0m 5ms/step - loss: 77.3282 - val_loss: 79.9126\n",
      "Epoch 77/5000\n",
      "\u001b[1m196/196\u001b[0m \u001b[32m━━━━━━━━━━━━━━━━━━━━\u001b[0m\u001b[37m\u001b[0m \u001b[1m1s\u001b[0m 5ms/step - loss: 77.1420 - val_loss: 78.0575\n",
      "Epoch 78/5000\n",
      "\u001b[1m196/196\u001b[0m \u001b[32m━━━━━━━━━━━━━━━━━━━━\u001b[0m\u001b[37m\u001b[0m \u001b[1m1s\u001b[0m 5ms/step - loss: 76.6709 - val_loss: 80.0819\n",
      "Epoch 79/5000\n",
      "\u001b[1m196/196\u001b[0m \u001b[32m━━━━━━━━━━━━━━━━━━━━\u001b[0m\u001b[37m\u001b[0m \u001b[1m1s\u001b[0m 5ms/step - loss: 76.6451 - val_loss: 77.4336\n",
      "Epoch 80/5000\n",
      "\u001b[1m196/196\u001b[0m \u001b[32m━━━━━━━━━━━━━━━━━━━━\u001b[0m\u001b[37m\u001b[0m \u001b[1m1s\u001b[0m 5ms/step - loss: 75.4608 - val_loss: 77.9091\n",
      "Epoch 81/5000\n",
      "\u001b[1m196/196\u001b[0m \u001b[32m━━━━━━━━━━━━━━━━━━━━\u001b[0m\u001b[37m\u001b[0m \u001b[1m1s\u001b[0m 5ms/step - loss: 76.7261 - val_loss: 77.3859\n",
      "Epoch 82/5000\n",
      "\u001b[1m196/196\u001b[0m \u001b[32m━━━━━━━━━━━━━━━━━━━━\u001b[0m\u001b[37m\u001b[0m \u001b[1m1s\u001b[0m 5ms/step - loss: 77.9038 - val_loss: 77.4851\n",
      "Epoch 83/5000\n",
      "\u001b[1m196/196\u001b[0m \u001b[32m━━━━━━━━━━━━━━━━━━━━\u001b[0m\u001b[37m\u001b[0m \u001b[1m1s\u001b[0m 5ms/step - loss: 76.2618 - val_loss: 77.3689\n",
      "Epoch 84/5000\n",
      "\u001b[1m196/196\u001b[0m \u001b[32m━━━━━━━━━━━━━━━━━━━━\u001b[0m\u001b[37m\u001b[0m \u001b[1m1s\u001b[0m 5ms/step - loss: 77.1607 - val_loss: 80.0622\n",
      "Epoch 85/5000\n",
      "\u001b[1m196/196\u001b[0m \u001b[32m━━━━━━━━━━━━━━━━━━━━\u001b[0m\u001b[37m\u001b[0m \u001b[1m1s\u001b[0m 5ms/step - loss: 76.6796 - val_loss: 79.6439\n"
     ]
    }
   ],
   "source": [
    "from datetime import datetime\n",
    "name = datetime.now().strftime(f\"models/AE_vaniglia.keras\")\n",
    "ae = build_autoencoder()\n",
    "callbacks = [\n",
    "keras.callbacks.ModelCheckpoint(\n",
    "    filepath = name,\n",
    "    save_best_only=True,\n",
    "    verbose=0,\n",
    "    monitor=\"val_loss\"),\n",
    "keras.callbacks.EarlyStopping(  \n",
    "    monitor=\"val_loss\",\n",
    "    min_delta=0,\n",
    "    patience=10,\n",
    "    verbose=0,\n",
    "    mode=\"auto\",\n",
    "    restore_best_weights=True\n",
    ")\n",
    "]\n",
    "\n",
    "history = ae.fit(X_train,X_train,\n",
    "            validation_data = (X_val,X_val),\n",
    "            epochs=5000,\n",
    "            batch_size=32,\n",
    "            verbose=1,\n",
    "            callbacks=callbacks\n",
    ")"
   ]
  },
  {
   "cell_type": "code",
   "execution_count": 77,
   "metadata": {},
   "outputs": [
    {
     "name": "stdout",
     "output_type": "stream",
     "text": [
      "\u001b[1m1/1\u001b[0m \u001b[32m━━━━━━━━━━━━━━━━━━━━\u001b[0m\u001b[37m\u001b[0m \u001b[1m0s\u001b[0m 45ms/step\n"
     ]
    },
    {
     "data": {
      "text/plain": [
       "36.50467300415039"
      ]
     },
     "execution_count": 77,
     "metadata": {},
     "output_type": "execute_result"
    }
   ],
   "source": [
    "from sklearn.metrics import mean_squared_error\n",
    "mean_squared_error(X_train[0].reshape(-1,784),ae.predict(X_train[0].reshape(1,784)))"
   ]
  },
  {
   "cell_type": "code",
   "execution_count": 78,
   "metadata": {},
   "outputs": [
    {
     "name": "stdout",
     "output_type": "stream",
     "text": [
      "\u001b[1m1/1\u001b[0m \u001b[32m━━━━━━━━━━━━━━━━━━━━\u001b[0m\u001b[37m\u001b[0m \u001b[1m0s\u001b[0m 25ms/step\n"
     ]
    },
    {
     "data": {
      "text/plain": [
       "49.79020309448242"
      ]
     },
     "execution_count": 78,
     "metadata": {},
     "output_type": "execute_result"
    }
   ],
   "source": [
    "from sklearn.metrics import mean_squared_error\n",
    "mean_squared_error(X_val[1].reshape(-1,784),ae.predict(X_val[1].reshape(1,784)))"
   ]
  },
  {
   "cell_type": "code",
   "execution_count": 98,
   "metadata": {},
   "outputs": [
    {
     "name": "stdout",
     "output_type": "stream",
     "text": [
      "\u001b[1m1/1\u001b[0m \u001b[32m━━━━━━━━━━━━━━━━━━━━\u001b[0m\u001b[37m\u001b[0m \u001b[1m0s\u001b[0m 10ms/step\n"
     ]
    },
    {
     "data": {
      "text/plain": [
       "45.82041"
      ]
     },
     "execution_count": 98,
     "metadata": {},
     "output_type": "execute_result"
    }
   ],
   "source": [
    "from sklearn.metrics import mean_squared_error\n",
    "mean_squared_error(X_test[-1].reshape(-1,784),ae.predict(X_test[-1].reshape(1,784)))"
   ]
  },
  {
   "cell_type": "code",
   "execution_count": 99,
   "metadata": {},
   "outputs": [],
   "source": [
    "train_error = []\n",
    "for sample in X_train:\n",
    "    train_error.append(mean_squared_error(sample.reshape(-1,784),ae.predict(sample.reshape(1,784),verbose=0)))"
   ]
  },
  {
   "cell_type": "code",
   "execution_count": 102,
   "metadata": {},
   "outputs": [
    {
     "name": "stdout",
     "output_type": "stream",
     "text": [
      "\u001b[1m79/79\u001b[0m \u001b[32m━━━━━━━━━━━━━━━━━━━━\u001b[0m\u001b[37m\u001b[0m \u001b[1m0s\u001b[0m 2ms/step\n"
     ]
    }
   ],
   "source": [
    "train_error_ = np.square(X_train - ae.predict(X_train))\n",
    "train_error_ = np.mean(train_error_,axis=1)"
   ]
  },
  {
   "cell_type": "code",
   "execution_count": 101,
   "metadata": {},
   "outputs": [
    {
     "data": {
      "text/plain": [
       "43.535003662109375"
      ]
     },
     "execution_count": 101,
     "metadata": {},
     "output_type": "execute_result"
    }
   ],
   "source": [
    "#th = np.median(train_error) + 1*np.std(train_error)\n",
    "#th\n",
    "th = np.percentile(train_error,20)\n",
    "th"
   ]
  },
  {
   "cell_type": "code",
   "execution_count": 221,
   "metadata": {},
   "outputs": [
    {
     "data": {
      "text/plain": [
       "43.535010528564456"
      ]
     },
     "execution_count": 221,
     "metadata": {},
     "output_type": "execute_result"
    }
   ],
   "source": [
    "th = np.percentile(train_error_,80)\n",
    "th"
   ]
  },
  {
   "cell_type": "code",
   "execution_count": 125,
   "metadata": {},
   "outputs": [
    {
     "ename": "KeyboardInterrupt",
     "evalue": "",
     "output_type": "error",
     "traceback": [
      "\u001b[0;31m---------------------------------------------------------------------------\u001b[0m",
      "\u001b[0;31mKeyboardInterrupt\u001b[0m                         Traceback (most recent call last)",
      "Cell \u001b[0;32mIn[125], line 4\u001b[0m\n\u001b[1;32m      2\u001b[0m test_errors \u001b[38;5;241m=\u001b[39m []\n\u001b[1;32m      3\u001b[0m \u001b[38;5;28;01mfor\u001b[39;00m sample \u001b[38;5;129;01min\u001b[39;00m X_test:\n\u001b[0;32m----> 4\u001b[0m     error \u001b[38;5;241m=\u001b[39m mean_squared_error(sample\u001b[38;5;241m.\u001b[39mreshape(\u001b[38;5;241m-\u001b[39m\u001b[38;5;241m1\u001b[39m,\u001b[38;5;241m784\u001b[39m),\u001b[43mae\u001b[49m\u001b[38;5;241;43m.\u001b[39;49m\u001b[43mpredict\u001b[49m\u001b[43m(\u001b[49m\u001b[43msample\u001b[49m\u001b[38;5;241;43m.\u001b[39;49m\u001b[43mreshape\u001b[49m\u001b[43m(\u001b[49m\u001b[38;5;241;43m1\u001b[39;49m\u001b[43m,\u001b[49m\u001b[38;5;241;43m784\u001b[39;49m\u001b[43m)\u001b[49m\u001b[43m,\u001b[49m\u001b[43mverbose\u001b[49m\u001b[38;5;241;43m=\u001b[39;49m\u001b[38;5;241;43m0\u001b[39;49m\u001b[43m)\u001b[49m)\n\u001b[1;32m      5\u001b[0m     test_errors\u001b[38;5;241m.\u001b[39mappend(error)\n\u001b[1;32m      6\u001b[0m     \u001b[38;5;28;01mif\u001b[39;00m error \u001b[38;5;241m>\u001b[39m th:\n",
      "File \u001b[0;32m~/miniconda3/envs/ml/lib/python3.10/site-packages/keras/src/utils/traceback_utils.py:117\u001b[0m, in \u001b[0;36mfilter_traceback.<locals>.error_handler\u001b[0;34m(*args, **kwargs)\u001b[0m\n\u001b[1;32m    115\u001b[0m filtered_tb \u001b[38;5;241m=\u001b[39m \u001b[38;5;28;01mNone\u001b[39;00m\n\u001b[1;32m    116\u001b[0m \u001b[38;5;28;01mtry\u001b[39;00m:\n\u001b[0;32m--> 117\u001b[0m     \u001b[38;5;28;01mreturn\u001b[39;00m \u001b[43mfn\u001b[49m\u001b[43m(\u001b[49m\u001b[38;5;241;43m*\u001b[39;49m\u001b[43margs\u001b[49m\u001b[43m,\u001b[49m\u001b[43m \u001b[49m\u001b[38;5;241;43m*\u001b[39;49m\u001b[38;5;241;43m*\u001b[39;49m\u001b[43mkwargs\u001b[49m\u001b[43m)\u001b[49m\n\u001b[1;32m    118\u001b[0m \u001b[38;5;28;01mexcept\u001b[39;00m \u001b[38;5;167;01mException\u001b[39;00m \u001b[38;5;28;01mas\u001b[39;00m e:\n\u001b[1;32m    119\u001b[0m     filtered_tb \u001b[38;5;241m=\u001b[39m _process_traceback_frames(e\u001b[38;5;241m.\u001b[39m__traceback__)\n",
      "File \u001b[0;32m~/miniconda3/envs/ml/lib/python3.10/site-packages/keras/src/backend/tensorflow/trainer.py:505\u001b[0m, in \u001b[0;36mTensorFlowTrainer.predict\u001b[0;34m(self, x, batch_size, verbose, steps, callbacks)\u001b[0m\n\u001b[1;32m    503\u001b[0m outputs \u001b[38;5;241m=\u001b[39m \u001b[38;5;28;01mNone\u001b[39;00m\n\u001b[1;32m    504\u001b[0m \u001b[38;5;28;01mwith\u001b[39;00m epoch_iterator\u001b[38;5;241m.\u001b[39mcatch_stop_iteration():\n\u001b[0;32m--> 505\u001b[0m     \u001b[38;5;28;01mfor\u001b[39;00m step, iterator \u001b[38;5;129;01min\u001b[39;00m epoch_iterator\u001b[38;5;241m.\u001b[39menumerate_epoch():\n\u001b[1;32m    506\u001b[0m         callbacks\u001b[38;5;241m.\u001b[39mon_predict_batch_begin(step)\n\u001b[1;32m    507\u001b[0m         data \u001b[38;5;241m=\u001b[39m get_data(iterator)\n",
      "File \u001b[0;32m~/miniconda3/envs/ml/lib/python3.10/site-packages/keras/src/backend/tensorflow/trainer.py:649\u001b[0m, in \u001b[0;36mTFEpochIterator.enumerate_epoch\u001b[0;34m(self)\u001b[0m\n\u001b[1;32m    647\u001b[0m         \u001b[38;5;28;01myield\u001b[39;00m step, \u001b[38;5;28mself\u001b[39m\u001b[38;5;241m.\u001b[39m_current_iterator\n\u001b[1;32m    648\u001b[0m \u001b[38;5;28;01melse\u001b[39;00m:\n\u001b[0;32m--> 649\u001b[0m     iterator \u001b[38;5;241m=\u001b[39m \u001b[38;5;28;43miter\u001b[39;49m\u001b[43m(\u001b[49m\u001b[38;5;28;43mself\u001b[39;49m\u001b[38;5;241;43m.\u001b[39;49m\u001b[43m_distributed_dataset\u001b[49m\u001b[43m)\u001b[49m\n\u001b[1;32m    650\u001b[0m     \u001b[38;5;28;01mif\u001b[39;00m \u001b[38;5;28mself\u001b[39m\u001b[38;5;241m.\u001b[39mnum_batches:\n\u001b[1;32m    651\u001b[0m         \u001b[38;5;28;01mfor\u001b[39;00m step \u001b[38;5;129;01min\u001b[39;00m \u001b[38;5;28mrange\u001b[39m(\n\u001b[1;32m    652\u001b[0m             \u001b[38;5;241m0\u001b[39m, \u001b[38;5;28mself\u001b[39m\u001b[38;5;241m.\u001b[39mnum_batches, \u001b[38;5;28mself\u001b[39m\u001b[38;5;241m.\u001b[39msteps_per_execution\n\u001b[1;32m    653\u001b[0m         ):\n",
      "File \u001b[0;32m~/miniconda3/envs/ml/lib/python3.10/site-packages/tensorflow/python/data/ops/dataset_ops.py:501\u001b[0m, in \u001b[0;36mDatasetV2.__iter__\u001b[0;34m(self)\u001b[0m\n\u001b[1;32m    499\u001b[0m \u001b[38;5;28;01mif\u001b[39;00m context\u001b[38;5;241m.\u001b[39mexecuting_eagerly() \u001b[38;5;129;01mor\u001b[39;00m ops\u001b[38;5;241m.\u001b[39minside_function():\n\u001b[1;32m    500\u001b[0m   \u001b[38;5;28;01mwith\u001b[39;00m ops\u001b[38;5;241m.\u001b[39mcolocate_with(\u001b[38;5;28mself\u001b[39m\u001b[38;5;241m.\u001b[39m_variant_tensor):\n\u001b[0;32m--> 501\u001b[0m     \u001b[38;5;28;01mreturn\u001b[39;00m \u001b[43miterator_ops\u001b[49m\u001b[38;5;241;43m.\u001b[39;49m\u001b[43mOwnedIterator\u001b[49m\u001b[43m(\u001b[49m\u001b[38;5;28;43mself\u001b[39;49m\u001b[43m)\u001b[49m\n\u001b[1;32m    502\u001b[0m \u001b[38;5;28;01melse\u001b[39;00m:\n\u001b[1;32m    503\u001b[0m   \u001b[38;5;28;01mraise\u001b[39;00m \u001b[38;5;167;01mRuntimeError\u001b[39;00m(\u001b[38;5;124m\"\u001b[39m\u001b[38;5;124m`tf.data.Dataset` only supports Python-style \u001b[39m\u001b[38;5;124m\"\u001b[39m\n\u001b[1;32m    504\u001b[0m                      \u001b[38;5;124m\"\u001b[39m\u001b[38;5;124miteration in eager mode or within tf.function.\u001b[39m\u001b[38;5;124m\"\u001b[39m)\n",
      "File \u001b[0;32m~/miniconda3/envs/ml/lib/python3.10/site-packages/tensorflow/python/data/ops/iterator_ops.py:709\u001b[0m, in \u001b[0;36mOwnedIterator.__init__\u001b[0;34m(self, dataset, components, element_spec)\u001b[0m\n\u001b[1;32m    705\u001b[0m   \u001b[38;5;28;01mif\u001b[39;00m (components \u001b[38;5;129;01mis\u001b[39;00m \u001b[38;5;129;01mnot\u001b[39;00m \u001b[38;5;28;01mNone\u001b[39;00m \u001b[38;5;129;01mor\u001b[39;00m element_spec \u001b[38;5;129;01mis\u001b[39;00m \u001b[38;5;129;01mnot\u001b[39;00m \u001b[38;5;28;01mNone\u001b[39;00m):\n\u001b[1;32m    706\u001b[0m     \u001b[38;5;28;01mraise\u001b[39;00m \u001b[38;5;167;01mValueError\u001b[39;00m(\n\u001b[1;32m    707\u001b[0m         \u001b[38;5;124m\"\u001b[39m\u001b[38;5;124mWhen `dataset` is provided, `element_spec` and `components` must \u001b[39m\u001b[38;5;124m\"\u001b[39m\n\u001b[1;32m    708\u001b[0m         \u001b[38;5;124m\"\u001b[39m\u001b[38;5;124mnot be specified.\u001b[39m\u001b[38;5;124m\"\u001b[39m)\n\u001b[0;32m--> 709\u001b[0m   \u001b[38;5;28;43mself\u001b[39;49m\u001b[38;5;241;43m.\u001b[39;49m\u001b[43m_create_iterator\u001b[49m\u001b[43m(\u001b[49m\u001b[43mdataset\u001b[49m\u001b[43m)\u001b[49m\n\u001b[1;32m    711\u001b[0m \u001b[38;5;28mself\u001b[39m\u001b[38;5;241m.\u001b[39m_get_next_call_count \u001b[38;5;241m=\u001b[39m \u001b[38;5;241m0\u001b[39m\n",
      "File \u001b[0;32m~/miniconda3/envs/ml/lib/python3.10/site-packages/tensorflow/python/data/ops/iterator_ops.py:748\u001b[0m, in \u001b[0;36mOwnedIterator._create_iterator\u001b[0;34m(self, dataset)\u001b[0m\n\u001b[1;32m    745\u001b[0m   \u001b[38;5;28;01massert\u001b[39;00m \u001b[38;5;28mlen\u001b[39m(fulltype\u001b[38;5;241m.\u001b[39margs[\u001b[38;5;241m0\u001b[39m]\u001b[38;5;241m.\u001b[39margs[\u001b[38;5;241m0\u001b[39m]\u001b[38;5;241m.\u001b[39margs) \u001b[38;5;241m==\u001b[39m \u001b[38;5;28mlen\u001b[39m(\n\u001b[1;32m    746\u001b[0m       \u001b[38;5;28mself\u001b[39m\u001b[38;5;241m.\u001b[39m_flat_output_types)\n\u001b[1;32m    747\u001b[0m   \u001b[38;5;28mself\u001b[39m\u001b[38;5;241m.\u001b[39m_iterator_resource\u001b[38;5;241m.\u001b[39mop\u001b[38;5;241m.\u001b[39mexperimental_set_type(fulltype)\n\u001b[0;32m--> 748\u001b[0m \u001b[43mgen_dataset_ops\u001b[49m\u001b[38;5;241;43m.\u001b[39;49m\u001b[43mmake_iterator\u001b[49m\u001b[43m(\u001b[49m\u001b[43mds_variant\u001b[49m\u001b[43m,\u001b[49m\u001b[43m \u001b[49m\u001b[38;5;28;43mself\u001b[39;49m\u001b[38;5;241;43m.\u001b[39;49m\u001b[43m_iterator_resource\u001b[49m\u001b[43m)\u001b[49m\n",
      "File \u001b[0;32m~/miniconda3/envs/ml/lib/python3.10/site-packages/tensorflow/python/ops/gen_dataset_ops.py:3478\u001b[0m, in \u001b[0;36mmake_iterator\u001b[0;34m(dataset, iterator, name)\u001b[0m\n\u001b[1;32m   3476\u001b[0m \u001b[38;5;28;01mif\u001b[39;00m tld\u001b[38;5;241m.\u001b[39mis_eager:\n\u001b[1;32m   3477\u001b[0m   \u001b[38;5;28;01mtry\u001b[39;00m:\n\u001b[0;32m-> 3478\u001b[0m     _result \u001b[38;5;241m=\u001b[39m \u001b[43mpywrap_tfe\u001b[49m\u001b[38;5;241;43m.\u001b[39;49m\u001b[43mTFE_Py_FastPathExecute\u001b[49m\u001b[43m(\u001b[49m\n\u001b[1;32m   3479\u001b[0m \u001b[43m      \u001b[49m\u001b[43m_ctx\u001b[49m\u001b[43m,\u001b[49m\u001b[43m \u001b[49m\u001b[38;5;124;43m\"\u001b[39;49m\u001b[38;5;124;43mMakeIterator\u001b[39;49m\u001b[38;5;124;43m\"\u001b[39;49m\u001b[43m,\u001b[49m\u001b[43m \u001b[49m\u001b[43mname\u001b[49m\u001b[43m,\u001b[49m\u001b[43m \u001b[49m\u001b[43mdataset\u001b[49m\u001b[43m,\u001b[49m\u001b[43m \u001b[49m\u001b[43miterator\u001b[49m\u001b[43m)\u001b[49m\n\u001b[1;32m   3480\u001b[0m     \u001b[38;5;28;01mreturn\u001b[39;00m _result\n\u001b[1;32m   3481\u001b[0m   \u001b[38;5;28;01mexcept\u001b[39;00m _core\u001b[38;5;241m.\u001b[39m_NotOkStatusException \u001b[38;5;28;01mas\u001b[39;00m e:\n",
      "\u001b[0;31mKeyboardInterrupt\u001b[0m: "
     ]
    }
   ],
   "source": [
    "classes = []\n",
    "test_errors = []\n",
    "for sample in X_test:\n",
    "    error = mean_squared_error(sample.reshape(-1,784),ae.predict(sample.reshape(1,784),verbose=0))\n",
    "    test_errors.append(error)\n",
    "    if error > th:\n",
    "        classes.append(1)\n",
    "    else:\n",
    "        classes.append(0)"
   ]
  },
  {
   "cell_type": "code",
   "execution_count": 136,
   "metadata": {},
   "outputs": [
    {
     "name": "stdout",
     "output_type": "stream",
     "text": [
      "\u001b[1m250/250\u001b[0m \u001b[32m━━━━━━━━━━━━━━━━━━━━\u001b[0m\u001b[37m\u001b[0m \u001b[1m0s\u001b[0m 2ms/step\n"
     ]
    }
   ],
   "source": [
    "y_pred_test = ae.predict(X_test)"
   ]
  },
  {
   "cell_type": "code",
   "execution_count": 137,
   "metadata": {},
   "outputs": [],
   "source": [
    "error = np.square(X_test - y_pred_test)"
   ]
  },
  {
   "cell_type": "code",
   "execution_count": 138,
   "metadata": {},
   "outputs": [],
   "source": [
    "error = np.mean(error,axis=1)"
   ]
  },
  {
   "cell_type": "code",
   "execution_count": 139,
   "metadata": {},
   "outputs": [
    {
     "data": {
      "text/plain": [
       "(8000,)"
      ]
     },
     "execution_count": 139,
     "metadata": {},
     "output_type": "execute_result"
    }
   ],
   "source": [
    "error.shape"
   ]
  },
  {
   "cell_type": "code",
   "execution_count": 140,
   "metadata": {},
   "outputs": [
    {
     "data": {
      "text/plain": [
       "array([166.8585  , 188.34729 , 476.21484 , ...,  46.771805,  54.97979 ,\n",
       "        45.82041 ], dtype=float32)"
      ]
     },
     "execution_count": 140,
     "metadata": {},
     "output_type": "execute_result"
    }
   ],
   "source": [
    "error"
   ]
  },
  {
   "cell_type": "code",
   "execution_count": 198,
   "metadata": {},
   "outputs": [],
   "source": [
    "y_pred_class = (error > th).astype(int)"
   ]
  },
  {
   "cell_type": "code",
   "execution_count": 199,
   "metadata": {},
   "outputs": [
    {
     "data": {
      "text/plain": [
       "array([1, 1, 1, ..., 0, 0, 0])"
      ]
     },
     "execution_count": 199,
     "metadata": {},
     "output_type": "execute_result"
    }
   ],
   "source": [
    "y_pred_class"
   ]
  },
  {
   "cell_type": "code",
   "execution_count": 200,
   "metadata": {},
   "outputs": [
    {
     "data": {
      "text/plain": [
       "array([1, 1, 1, ..., 0, 0, 0])"
      ]
     },
     "execution_count": 200,
     "metadata": {},
     "output_type": "execute_result"
    }
   ],
   "source": [
    "y_test"
   ]
  },
  {
   "cell_type": "code",
   "execution_count": 201,
   "metadata": {},
   "outputs": [
    {
     "data": {
      "text/plain": [
       "0.988565205554043"
      ]
     },
     "execution_count": 201,
     "metadata": {},
     "output_type": "execute_result"
    }
   ],
   "source": [
    "from sklearn.metrics import precision_score,recall_score,f1_score,confusion_matrix\n",
    "precision_score(y_test,y_pred_class)"
   ]
  },
  {
   "cell_type": "code",
   "execution_count": 202,
   "metadata": {},
   "outputs": [
    {
     "data": {
      "text/plain": [
       "0.9448347645068956"
      ]
     },
     "execution_count": 202,
     "metadata": {},
     "output_type": "execute_result"
    }
   ],
   "source": [
    "recall_score(y_test,y_pred_class)"
   ]
  },
  {
   "cell_type": "code",
   "execution_count": 203,
   "metadata": {},
   "outputs": [
    {
     "data": {
      "text/plain": [
       "0.966205428419372"
      ]
     },
     "execution_count": 203,
     "metadata": {},
     "output_type": "execute_result"
    }
   ],
   "source": [
    "f1_score(y_test,y_pred_class)"
   ]
  },
  {
   "cell_type": "code",
   "execution_count": 204,
   "metadata": {},
   "outputs": [
    {
     "data": {
      "text/plain": [
       "array([[ 230,   84],\n",
       "       [ 424, 7262]])"
      ]
     },
     "execution_count": 204,
     "metadata": {},
     "output_type": "execute_result"
    }
   ],
   "source": [
    "confusion_matrix(y_test,y_pred_class)"
   ]
  },
  {
   "cell_type": "code",
   "execution_count": 213,
   "metadata": {},
   "outputs": [
    {
     "data": {
      "text/plain": [
       "230"
      ]
     },
     "execution_count": 213,
     "metadata": {},
     "output_type": "execute_result"
    }
   ],
   "source": [
    "tn = confusion_matrix(y_test,y_pred_class)[0,0]\n",
    "tn"
   ]
  },
  {
   "cell_type": "code",
   "execution_count": 214,
   "metadata": {},
   "outputs": [
    {
     "data": {
      "text/plain": [
       "424"
      ]
     },
     "execution_count": 214,
     "metadata": {},
     "output_type": "execute_result"
    }
   ],
   "source": [
    "fn = confusion_matrix(y_test,y_pred_class)[1,0]\n",
    "fn"
   ]
  },
  {
   "cell_type": "code",
   "execution_count": 215,
   "metadata": {},
   "outputs": [
    {
     "data": {
      "text/plain": [
       "7262"
      ]
     },
     "execution_count": 215,
     "metadata": {},
     "output_type": "execute_result"
    }
   ],
   "source": [
    "tp = confusion_matrix(y_test,y_pred_class)[1,1]\n",
    "tp"
   ]
  },
  {
   "cell_type": "code",
   "execution_count": 216,
   "metadata": {},
   "outputs": [
    {
     "data": {
      "text/plain": [
       "84"
      ]
     },
     "execution_count": 216,
     "metadata": {},
     "output_type": "execute_result"
    }
   ],
   "source": [
    "fp = confusion_matrix(y_test,y_pred_class)[0,1]\n",
    "fp"
   ]
  },
  {
   "cell_type": "code",
   "execution_count": 217,
   "metadata": {},
   "outputs": [
    {
     "data": {
      "text/plain": [
       "0.988565205554043"
      ]
     },
     "execution_count": 217,
     "metadata": {},
     "output_type": "execute_result"
    }
   ],
   "source": [
    "tp/(tp + fp)"
   ]
  },
  {
   "cell_type": "code",
   "execution_count": 218,
   "metadata": {},
   "outputs": [
    {
     "data": {
      "text/plain": [
       "0.9448347645068956"
      ]
     },
     "execution_count": 218,
     "metadata": {},
     "output_type": "execute_result"
    }
   ],
   "source": [
    "tp/(tp+fn)"
   ]
  },
  {
   "cell_type": "code",
   "execution_count": null,
   "metadata": {},
   "outputs": [],
   "source": []
  },
  {
   "cell_type": "code",
   "execution_count": 219,
   "metadata": {},
   "outputs": [
    {
     "data": {
      "text/plain": [
       "0.3516819571865443"
      ]
     },
     "execution_count": 219,
     "metadata": {},
     "output_type": "execute_result"
    }
   ],
   "source": [
    "tn/(tn+fn)"
   ]
  },
  {
   "cell_type": "code",
   "execution_count": 220,
   "metadata": {},
   "outputs": [
    {
     "data": {
      "text/plain": [
       "0.732484076433121"
      ]
     },
     "execution_count": 220,
     "metadata": {},
     "output_type": "execute_result"
    }
   ],
   "source": [
    "tn/(tn+fp)"
   ]
  },
  {
   "cell_type": "code",
   "execution_count": 184,
   "metadata": {},
   "outputs": [
    {
     "name": "stdout",
     "output_type": "stream",
     "text": [
      "              precision    recall  f1-score   support\n",
      "\n",
      "           0       0.35      0.73      0.48       314\n",
      "           1       0.99      0.94      0.97      7686\n",
      "\n",
      "    accuracy                           0.94      8000\n",
      "   macro avg       0.67      0.84      0.72      8000\n",
      "weighted avg       0.96      0.94      0.95      8000\n",
      "\n"
     ]
    }
   ],
   "source": [
    "from sklearn.metrics import classification_report\n",
    "print(classification_report(y_test,y_pred_class))"
   ]
  },
  {
   "cell_type": "code",
   "execution_count": null,
   "metadata": {},
   "outputs": [],
   "source": []
  },
  {
   "cell_type": "code",
   "execution_count": null,
   "metadata": {},
   "outputs": [],
   "source": []
  },
  {
   "cell_type": "code",
   "execution_count": 27,
   "metadata": {},
   "outputs": [],
   "source": [
    "im = utils.acquire_image(data_df.loc[0,\"frame_id\"])"
   ]
  },
  {
   "cell_type": "code",
   "execution_count": null,
   "metadata": {},
   "outputs": [],
   "source": [
    "im_gay = cv2.cvtColor(im, cv2.COLOR_BGR2GRAY)"
   ]
  },
  {
   "cell_type": "code",
   "execution_count": 54,
   "metadata": {},
   "outputs": [],
   "source": [
    "im_gay = utils.to_grayscale(im)"
   ]
  },
  {
   "cell_type": "code",
   "execution_count": 89,
   "metadata": {},
   "outputs": [],
   "source": [
    "im = utils.acquire_image(data_df.loc[200,\"frame_id\"])\n",
    "im_gay = utils.to_grayscale(im)"
   ]
  },
  {
   "cell_type": "code",
   "execution_count": 93,
   "metadata": {},
   "outputs": [
    {
     "data": {
      "text/plain": [
       "(28, 28)"
      ]
     },
     "execution_count": 93,
     "metadata": {},
     "output_type": "execute_result"
    }
   ],
   "source": [
    "utils.low_res(im_gay).shape"
   ]
  },
  {
   "cell_type": "code",
   "execution_count": 124,
   "metadata": {},
   "outputs": [
    {
     "data": {
      "image/png": "[encoded data removed]",
      "text/plain": [
       "<Figure size 640x480 with 1 Axes>"
      ]
     },
     "metadata": {},
     "output_type": "display_data"
    },
    {
     "data": {
      "image/png": "[encoded data removed]",
      "text/plain": [
       "<Figure size 640x480 with 1 Axes>"
      ]
     },
     "metadata": {},
     "output_type": "display_data"
    }
   ],
   "source": [
    "im = utils.acquire_image(data_df.loc[200,\"frame_id\"])\n",
    "im_gay = utils.to_grayscale(im)\n",
    "plt.imshow(utils.preprocess(im_gay),cmap=\"gray\")\n",
    "plt.show()\n",
    "plt.imshow(utils.low_res(im_gay),cmap=\"gray\")\n",
    "plt.show()"
   ]
  },
  {
   "cell_type": "code",
   "execution_count": 45,
   "metadata": {},
   "outputs": [
    {
     "data": {
      "text/plain": [
       "(512, 512, 1)"
      ]
     },
     "execution_count": 45,
     "metadata": {},
     "output_type": "execute_result"
    }
   ],
   "source": [
    "im_gay.shape"
   ]
  },
  {
   "cell_type": "code",
   "execution_count": null,
   "metadata": {},
   "outputs": [
    {
     "data": {
      "text/plain": [
       "(1, 224, 224, 1)"
      ]
     },
     "execution_count": 60,
     "metadata": {},
     "output_type": "execute_result"
    }
   ],
   "source": []
  },
  {
   "cell_type": "code",
   "execution_count": 64,
   "metadata": {},
   "outputs": [
    {
     "name": "stdout",
     "output_type": "stream",
     "text": [
      "\u001b[1m1/1\u001b[0m \u001b[32m━━━━━━━━━━━━━━━━━━━━\u001b[0m\u001b[37m\u001b[0m \u001b[1m0s\u001b[0m 31ms/step\n",
      "0\n"
     ]
    }
   ],
   "source": [
    "import numpy as np\n",
    "\n",
    "prob = model.predict(utils.preprocess_predict(im))\n",
    "label = int(prob.item() >= 0.5) \n",
    "print(label)"
   ]
  },
  {
   "cell_type": "code",
   "execution_count": 69,
   "metadata": {},
   "outputs": [],
   "source": [
    "images = data_df[\"frame_id\"].to_list()"
   ]
  },
  {
   "cell_type": "code",
   "execution_count": 65,
   "metadata": {},
   "outputs": [],
   "source": [
    "import time\n",
    "import datetime\n",
    "class ADController:\n",
    "    def __init__(self, model, cooldown=120, duration=360, dt = 0.1):\n",
    "        self.CNN_model = model\n",
    "        # self.SNN_model = low_res_model\n",
    "        self.dt = dt\n",
    "        self.cooldown = cooldown\n",
    "        self.last_called = 0\n",
    "        self.CNN_call_history = []\n",
    "        self.SNN_call_history = []\n",
    "        self.duration = duration\n",
    "        self.time = 0\n",
    "\n",
    "    def start_loop(self, data):\n",
    "        print(\"Starting Anomaly Detection loop...\")\n",
    "        while self.time < self.duration:\n",
    "            file_path = random.choice(data)\n",
    "            img = cv2.imread(file_path)\n",
    "            check = self.SNN_pred(img)\n",
    "            # print(f\"check: {check}\")\n",
    "            correct_label = self.infer(utils.preprocess_predict(img), check)\n",
    "            if check:\n",
    "                self.SNN_update(correct_label)\n",
    "            self.time += self.dt\n",
    "\n",
    "    def SNN_pred(self, data):\n",
    "        img = utils.low_res(data)\n",
    "        #time.sleep(0.01) #simulo inferenza SNN\n",
    "        self.time += self.dt #Facciamo che un'inferenza dura un dt (che poi così dovrebbe essere)\n",
    "        self.update_last_call(0)\n",
    "        return 1 if np.random.exponential(scale = 0.15) > 1  else 0\n",
    "\n",
    "    def SNN_update(self, prob):\n",
    "        # print(f\"label : {prob}\")\n",
    "        label = int(prob.item() >= 0.5)\n",
    "        self.time += self.dt #Stessa cosa per l'update. In realtà le cose dovrebbero avvenire in \"real time\", dunque in parallelo.\n",
    "                             #poi casomai giochiamo coi thread\n",
    "        # print(f\"label : {label}\")\n",
    "\n",
    "    def infer(self, data, check):\n",
    "        current_time = self.time\n",
    "        if check:\n",
    "            self.update_last_call(1)\n",
    "            print(f\"Inferenza vera.\")\n",
    "            return self.CNN_model.predict(data,  verbose=0)\n",
    "        elif self.time - self.last_called >= self.cooldown:\n",
    "            self.update_last_call(1)\n",
    "            print(f\"Inferenza di routine.\")\n",
    "            return self.CNN_model.predict(data, verbose=0)\n",
    "\n",
    "    def update_last_call(self, flag):\n",
    "        current_time = self.time\n",
    "        self.update_call_history(current_time,flag)\n",
    "        if flag:\n",
    "            print(f\"Time since last call: {current_time - self.last_called:.2f} seconds\")\n",
    "            self.last_called = current_time\n",
    "\n",
    "    def update_call_history(self, time, flag):\n",
    "        if flag:\n",
    "            self.CNN_call_history.append(time)\n",
    "        else:\n",
    "            self.SNN_call_history.append(time)\n"
   ]
  },
  {
   "cell_type": "code",
   "execution_count": 70,
   "metadata": {},
   "outputs": [
    {
     "name": "stdout",
     "output_type": "stream",
     "text": [
      "Starting Anomaly Detection loop...\n",
      "Time since last call: 30.10 seconds\n",
      "Inferenza di routine.\n",
      "Time since last call: 30.00 seconds\n",
      "Inferenza di routine.\n",
      "Time since last call: 30.20 seconds\n",
      "Inferenza di routine.\n"
     ]
    }
   ],
   "source": [
    "controller = ADController(model,cooldown=30,duration=100, dt=0.1)\n",
    "images = data_df[\"frame_id\"].to_list()\n",
    "controller.start_loop(images)"
   ]
  },
  {
   "cell_type": "code",
   "execution_count": 15,
   "metadata": {},
   "outputs": [
    {
     "data": {
      "text/plain": [
       "501"
      ]
     },
     "execution_count": 15,
     "metadata": {},
     "output_type": "execute_result"
    }
   ],
   "source": [
    "len(controller.SNN_call_history)"
   ]
  },
  {
   "cell_type": "code",
   "execution_count": 16,
   "metadata": {},
   "outputs": [
    {
     "data": {
      "text/plain": [
       "3"
      ]
     },
     "execution_count": 16,
     "metadata": {},
     "output_type": "execute_result"
    }
   ],
   "source": [
    "len(controller.CNN_call_history) "
   ]
  },
  {
   "cell_type": "code",
   "execution_count": 17,
   "metadata": {},
   "outputs": [
    {
     "name": "stdout",
     "output_type": "stream",
     "text": [
      "Thu Jan  1 01:00:30 1970\n",
      "Thu Jan  1 01:01:00 1970\n",
      "Thu Jan  1 01:01:30 1970\n"
     ]
    }
   ],
   "source": [
    "for timestamp in controller.CNN_call_history:\n",
    "    print(datetime.datetime.fromtimestamp(timestamp).strftime('%c'))"
   ]
  },
  {
   "cell_type": "code",
   "execution_count": 18,
   "metadata": {},
   "outputs": [
    {
     "name": "stdout",
     "output_type": "stream",
     "text": [
      "Thu Jan  1 01:00:00 1970\n",
      "Thu Jan  1 01:00:00 1970\n",
      "Thu Jan  1 01:00:00 1970\n",
      "Thu Jan  1 01:00:00 1970\n",
      "Thu Jan  1 01:00:00 1970\n",
      "Thu Jan  1 01:00:01 1970\n",
      "Thu Jan  1 01:00:01 1970\n",
      "Thu Jan  1 01:00:01 1970\n",
      "Thu Jan  1 01:00:01 1970\n",
      "Thu Jan  1 01:00:01 1970\n",
      "Thu Jan  1 01:00:02 1970\n",
      "Thu Jan  1 01:00:02 1970\n",
      "Thu Jan  1 01:00:02 1970\n",
      "Thu Jan  1 01:00:02 1970\n",
      "Thu Jan  1 01:00:02 1970\n",
      "Thu Jan  1 01:00:03 1970\n",
      "Thu Jan  1 01:00:03 1970\n",
      "Thu Jan  1 01:00:03 1970\n",
      "Thu Jan  1 01:00:03 1970\n",
      "Thu Jan  1 01:00:03 1970\n",
      "Thu Jan  1 01:00:04 1970\n",
      "Thu Jan  1 01:00:04 1970\n",
      "Thu Jan  1 01:00:04 1970\n",
      "Thu Jan  1 01:00:04 1970\n",
      "Thu Jan  1 01:00:04 1970\n",
      "Thu Jan  1 01:00:05 1970\n",
      "Thu Jan  1 01:00:05 1970\n",
      "Thu Jan  1 01:00:05 1970\n",
      "Thu Jan  1 01:00:05 1970\n",
      "Thu Jan  1 01:00:05 1970\n",
      "Thu Jan  1 01:00:06 1970\n",
      "Thu Jan  1 01:00:06 1970\n",
      "Thu Jan  1 01:00:06 1970\n",
      "Thu Jan  1 01:00:06 1970\n",
      "Thu Jan  1 01:00:06 1970\n",
      "Thu Jan  1 01:00:07 1970\n",
      "Thu Jan  1 01:00:07 1970\n",
      "Thu Jan  1 01:00:07 1970\n",
      "Thu Jan  1 01:00:07 1970\n",
      "Thu Jan  1 01:00:07 1970\n",
      "Thu Jan  1 01:00:08 1970\n",
      "Thu Jan  1 01:00:08 1970\n",
      "Thu Jan  1 01:00:08 1970\n",
      "Thu Jan  1 01:00:08 1970\n",
      "Thu Jan  1 01:00:08 1970\n",
      "Thu Jan  1 01:00:09 1970\n",
      "Thu Jan  1 01:00:09 1970\n",
      "Thu Jan  1 01:00:09 1970\n",
      "Thu Jan  1 01:00:09 1970\n",
      "Thu Jan  1 01:00:09 1970\n",
      "Thu Jan  1 01:00:10 1970\n",
      "Thu Jan  1 01:00:10 1970\n",
      "Thu Jan  1 01:00:10 1970\n",
      "Thu Jan  1 01:00:10 1970\n",
      "Thu Jan  1 01:00:10 1970\n",
      "Thu Jan  1 01:00:11 1970\n",
      "Thu Jan  1 01:00:11 1970\n",
      "Thu Jan  1 01:00:11 1970\n",
      "Thu Jan  1 01:00:11 1970\n",
      "Thu Jan  1 01:00:11 1970\n",
      "Thu Jan  1 01:00:12 1970\n",
      "Thu Jan  1 01:00:12 1970\n",
      "Thu Jan  1 01:00:12 1970\n",
      "Thu Jan  1 01:00:12 1970\n",
      "Thu Jan  1 01:00:12 1970\n",
      "Thu Jan  1 01:00:13 1970\n",
      "Thu Jan  1 01:00:13 1970\n",
      "Thu Jan  1 01:00:13 1970\n",
      "Thu Jan  1 01:00:13 1970\n",
      "Thu Jan  1 01:00:13 1970\n",
      "Thu Jan  1 01:00:14 1970\n",
      "Thu Jan  1 01:00:14 1970\n",
      "Thu Jan  1 01:00:14 1970\n",
      "Thu Jan  1 01:00:14 1970\n",
      "Thu Jan  1 01:00:14 1970\n",
      "Thu Jan  1 01:00:15 1970\n",
      "Thu Jan  1 01:00:15 1970\n",
      "Thu Jan  1 01:00:15 1970\n",
      "Thu Jan  1 01:00:15 1970\n",
      "Thu Jan  1 01:00:15 1970\n",
      "Thu Jan  1 01:00:16 1970\n",
      "Thu Jan  1 01:00:16 1970\n",
      "Thu Jan  1 01:00:16 1970\n",
      "Thu Jan  1 01:00:16 1970\n",
      "Thu Jan  1 01:00:16 1970\n",
      "Thu Jan  1 01:00:17 1970\n",
      "Thu Jan  1 01:00:17 1970\n",
      "Thu Jan  1 01:00:17 1970\n",
      "Thu Jan  1 01:00:17 1970\n",
      "Thu Jan  1 01:00:17 1970\n",
      "Thu Jan  1 01:00:18 1970\n",
      "Thu Jan  1 01:00:18 1970\n",
      "Thu Jan  1 01:00:18 1970\n",
      "Thu Jan  1 01:00:18 1970\n",
      "Thu Jan  1 01:00:18 1970\n",
      "Thu Jan  1 01:00:19 1970\n",
      "Thu Jan  1 01:00:19 1970\n",
      "Thu Jan  1 01:00:19 1970\n",
      "Thu Jan  1 01:00:19 1970\n",
      "Thu Jan  1 01:00:19 1970\n",
      "Thu Jan  1 01:00:20 1970\n",
      "Thu Jan  1 01:00:20 1970\n",
      "Thu Jan  1 01:00:20 1970\n",
      "Thu Jan  1 01:00:20 1970\n",
      "Thu Jan  1 01:00:20 1970\n",
      "Thu Jan  1 01:00:21 1970\n",
      "Thu Jan  1 01:00:21 1970\n",
      "Thu Jan  1 01:00:21 1970\n",
      "Thu Jan  1 01:00:21 1970\n",
      "Thu Jan  1 01:00:21 1970\n",
      "Thu Jan  1 01:00:22 1970\n",
      "Thu Jan  1 01:00:22 1970\n",
      "Thu Jan  1 01:00:22 1970\n",
      "Thu Jan  1 01:00:22 1970\n",
      "Thu Jan  1 01:00:22 1970\n",
      "Thu Jan  1 01:00:23 1970\n",
      "Thu Jan  1 01:00:23 1970\n",
      "Thu Jan  1 01:00:23 1970\n",
      "Thu Jan  1 01:00:23 1970\n",
      "Thu Jan  1 01:00:23 1970\n",
      "Thu Jan  1 01:00:24 1970\n",
      "Thu Jan  1 01:00:24 1970\n",
      "Thu Jan  1 01:00:24 1970\n",
      "Thu Jan  1 01:00:24 1970\n",
      "Thu Jan  1 01:00:24 1970\n",
      "Thu Jan  1 01:00:25 1970\n",
      "Thu Jan  1 01:00:25 1970\n",
      "Thu Jan  1 01:00:25 1970\n",
      "Thu Jan  1 01:00:25 1970\n",
      "Thu Jan  1 01:00:25 1970\n",
      "Thu Jan  1 01:00:26 1970\n",
      "Thu Jan  1 01:00:26 1970\n",
      "Thu Jan  1 01:00:26 1970\n",
      "Thu Jan  1 01:00:26 1970\n",
      "Thu Jan  1 01:00:26 1970\n",
      "Thu Jan  1 01:00:27 1970\n",
      "Thu Jan  1 01:00:27 1970\n",
      "Thu Jan  1 01:00:27 1970\n",
      "Thu Jan  1 01:00:27 1970\n",
      "Thu Jan  1 01:00:27 1970\n",
      "Thu Jan  1 01:00:28 1970\n",
      "Thu Jan  1 01:00:28 1970\n",
      "Thu Jan  1 01:00:28 1970\n",
      "Thu Jan  1 01:00:28 1970\n",
      "Thu Jan  1 01:00:28 1970\n",
      "Thu Jan  1 01:00:29 1970\n",
      "Thu Jan  1 01:00:29 1970\n",
      "Thu Jan  1 01:00:29 1970\n",
      "Thu Jan  1 01:00:29 1970\n",
      "Thu Jan  1 01:00:29 1970\n",
      "Thu Jan  1 01:00:30 1970\n",
      "Thu Jan  1 01:00:30 1970\n",
      "Thu Jan  1 01:00:30 1970\n",
      "Thu Jan  1 01:00:30 1970\n",
      "Thu Jan  1 01:00:30 1970\n",
      "Thu Jan  1 01:00:31 1970\n",
      "Thu Jan  1 01:00:31 1970\n",
      "Thu Jan  1 01:00:31 1970\n",
      "Thu Jan  1 01:00:31 1970\n",
      "Thu Jan  1 01:00:31 1970\n",
      "Thu Jan  1 01:00:32 1970\n",
      "Thu Jan  1 01:00:32 1970\n",
      "Thu Jan  1 01:00:32 1970\n",
      "Thu Jan  1 01:00:32 1970\n",
      "Thu Jan  1 01:00:32 1970\n",
      "Thu Jan  1 01:00:33 1970\n",
      "Thu Jan  1 01:00:33 1970\n",
      "Thu Jan  1 01:00:33 1970\n",
      "Thu Jan  1 01:00:33 1970\n",
      "Thu Jan  1 01:00:33 1970\n",
      "Thu Jan  1 01:00:34 1970\n",
      "Thu Jan  1 01:00:34 1970\n",
      "Thu Jan  1 01:00:34 1970\n",
      "Thu Jan  1 01:00:34 1970\n",
      "Thu Jan  1 01:00:34 1970\n",
      "Thu Jan  1 01:00:35 1970\n",
      "Thu Jan  1 01:00:35 1970\n",
      "Thu Jan  1 01:00:35 1970\n",
      "Thu Jan  1 01:00:35 1970\n",
      "Thu Jan  1 01:00:35 1970\n",
      "Thu Jan  1 01:00:36 1970\n",
      "Thu Jan  1 01:00:36 1970\n",
      "Thu Jan  1 01:00:36 1970\n",
      "Thu Jan  1 01:00:36 1970\n",
      "Thu Jan  1 01:00:36 1970\n",
      "Thu Jan  1 01:00:37 1970\n",
      "Thu Jan  1 01:00:37 1970\n",
      "Thu Jan  1 01:00:37 1970\n",
      "Thu Jan  1 01:00:37 1970\n",
      "Thu Jan  1 01:00:37 1970\n",
      "Thu Jan  1 01:00:38 1970\n",
      "Thu Jan  1 01:00:38 1970\n",
      "Thu Jan  1 01:00:38 1970\n",
      "Thu Jan  1 01:00:38 1970\n",
      "Thu Jan  1 01:00:38 1970\n",
      "Thu Jan  1 01:00:39 1970\n",
      "Thu Jan  1 01:00:39 1970\n",
      "Thu Jan  1 01:00:39 1970\n",
      "Thu Jan  1 01:00:39 1970\n",
      "Thu Jan  1 01:00:39 1970\n",
      "Thu Jan  1 01:00:40 1970\n",
      "Thu Jan  1 01:00:40 1970\n",
      "Thu Jan  1 01:00:40 1970\n",
      "Thu Jan  1 01:00:40 1970\n",
      "Thu Jan  1 01:00:40 1970\n",
      "Thu Jan  1 01:00:41 1970\n",
      "Thu Jan  1 01:00:41 1970\n",
      "Thu Jan  1 01:00:41 1970\n",
      "Thu Jan  1 01:00:41 1970\n",
      "Thu Jan  1 01:00:41 1970\n",
      "Thu Jan  1 01:00:42 1970\n",
      "Thu Jan  1 01:00:42 1970\n",
      "Thu Jan  1 01:00:42 1970\n",
      "Thu Jan  1 01:00:42 1970\n",
      "Thu Jan  1 01:00:42 1970\n",
      "Thu Jan  1 01:00:43 1970\n",
      "Thu Jan  1 01:00:43 1970\n",
      "Thu Jan  1 01:00:43 1970\n",
      "Thu Jan  1 01:00:43 1970\n",
      "Thu Jan  1 01:00:43 1970\n",
      "Thu Jan  1 01:00:44 1970\n",
      "Thu Jan  1 01:00:44 1970\n",
      "Thu Jan  1 01:00:44 1970\n",
      "Thu Jan  1 01:00:44 1970\n",
      "Thu Jan  1 01:00:44 1970\n",
      "Thu Jan  1 01:00:45 1970\n",
      "Thu Jan  1 01:00:45 1970\n",
      "Thu Jan  1 01:00:45 1970\n",
      "Thu Jan  1 01:00:45 1970\n",
      "Thu Jan  1 01:00:45 1970\n",
      "Thu Jan  1 01:00:46 1970\n",
      "Thu Jan  1 01:00:46 1970\n",
      "Thu Jan  1 01:00:46 1970\n",
      "Thu Jan  1 01:00:46 1970\n",
      "Thu Jan  1 01:00:46 1970\n",
      "Thu Jan  1 01:00:47 1970\n",
      "Thu Jan  1 01:00:47 1970\n",
      "Thu Jan  1 01:00:47 1970\n",
      "Thu Jan  1 01:00:47 1970\n",
      "Thu Jan  1 01:00:47 1970\n",
      "Thu Jan  1 01:00:48 1970\n",
      "Thu Jan  1 01:00:48 1970\n",
      "Thu Jan  1 01:00:48 1970\n",
      "Thu Jan  1 01:00:48 1970\n",
      "Thu Jan  1 01:00:48 1970\n",
      "Thu Jan  1 01:00:49 1970\n",
      "Thu Jan  1 01:00:49 1970\n",
      "Thu Jan  1 01:00:49 1970\n",
      "Thu Jan  1 01:00:49 1970\n",
      "Thu Jan  1 01:00:49 1970\n",
      "Thu Jan  1 01:00:50 1970\n",
      "Thu Jan  1 01:00:50 1970\n",
      "Thu Jan  1 01:00:50 1970\n",
      "Thu Jan  1 01:00:50 1970\n",
      "Thu Jan  1 01:00:50 1970\n",
      "Thu Jan  1 01:00:51 1970\n",
      "Thu Jan  1 01:00:51 1970\n",
      "Thu Jan  1 01:00:51 1970\n",
      "Thu Jan  1 01:00:51 1970\n",
      "Thu Jan  1 01:00:51 1970\n",
      "Thu Jan  1 01:00:52 1970\n",
      "Thu Jan  1 01:00:52 1970\n",
      "Thu Jan  1 01:00:52 1970\n",
      "Thu Jan  1 01:00:52 1970\n",
      "Thu Jan  1 01:00:52 1970\n",
      "Thu Jan  1 01:00:53 1970\n",
      "Thu Jan  1 01:00:53 1970\n",
      "Thu Jan  1 01:00:53 1970\n",
      "Thu Jan  1 01:00:53 1970\n",
      "Thu Jan  1 01:00:53 1970\n",
      "Thu Jan  1 01:00:54 1970\n",
      "Thu Jan  1 01:00:54 1970\n",
      "Thu Jan  1 01:00:54 1970\n",
      "Thu Jan  1 01:00:54 1970\n",
      "Thu Jan  1 01:00:54 1970\n",
      "Thu Jan  1 01:00:55 1970\n",
      "Thu Jan  1 01:00:55 1970\n",
      "Thu Jan  1 01:00:55 1970\n",
      "Thu Jan  1 01:00:55 1970\n",
      "Thu Jan  1 01:00:55 1970\n",
      "Thu Jan  1 01:00:56 1970\n",
      "Thu Jan  1 01:00:56 1970\n",
      "Thu Jan  1 01:00:56 1970\n",
      "Thu Jan  1 01:00:56 1970\n",
      "Thu Jan  1 01:00:56 1970\n",
      "Thu Jan  1 01:00:57 1970\n",
      "Thu Jan  1 01:00:57 1970\n",
      "Thu Jan  1 01:00:57 1970\n",
      "Thu Jan  1 01:00:57 1970\n",
      "Thu Jan  1 01:00:57 1970\n",
      "Thu Jan  1 01:00:58 1970\n",
      "Thu Jan  1 01:00:58 1970\n",
      "Thu Jan  1 01:00:58 1970\n",
      "Thu Jan  1 01:00:58 1970\n",
      "Thu Jan  1 01:00:58 1970\n",
      "Thu Jan  1 01:00:59 1970\n",
      "Thu Jan  1 01:00:59 1970\n",
      "Thu Jan  1 01:00:59 1970\n",
      "Thu Jan  1 01:00:59 1970\n",
      "Thu Jan  1 01:00:59 1970\n",
      "Thu Jan  1 01:01:00 1970\n",
      "Thu Jan  1 01:01:00 1970\n",
      "Thu Jan  1 01:01:00 1970\n",
      "Thu Jan  1 01:01:00 1970\n",
      "Thu Jan  1 01:01:00 1970\n",
      "Thu Jan  1 01:01:01 1970\n",
      "Thu Jan  1 01:01:01 1970\n",
      "Thu Jan  1 01:01:01 1970\n",
      "Thu Jan  1 01:01:01 1970\n",
      "Thu Jan  1 01:01:01 1970\n",
      "Thu Jan  1 01:01:02 1970\n",
      "Thu Jan  1 01:01:02 1970\n",
      "Thu Jan  1 01:01:02 1970\n",
      "Thu Jan  1 01:01:02 1970\n",
      "Thu Jan  1 01:01:02 1970\n",
      "Thu Jan  1 01:01:03 1970\n",
      "Thu Jan  1 01:01:03 1970\n",
      "Thu Jan  1 01:01:03 1970\n",
      "Thu Jan  1 01:01:03 1970\n",
      "Thu Jan  1 01:01:03 1970\n",
      "Thu Jan  1 01:01:04 1970\n",
      "Thu Jan  1 01:01:04 1970\n",
      "Thu Jan  1 01:01:04 1970\n",
      "Thu Jan  1 01:01:04 1970\n",
      "Thu Jan  1 01:01:04 1970\n",
      "Thu Jan  1 01:01:05 1970\n",
      "Thu Jan  1 01:01:05 1970\n",
      "Thu Jan  1 01:01:05 1970\n",
      "Thu Jan  1 01:01:05 1970\n",
      "Thu Jan  1 01:01:05 1970\n",
      "Thu Jan  1 01:01:06 1970\n",
      "Thu Jan  1 01:01:06 1970\n",
      "Thu Jan  1 01:01:06 1970\n",
      "Thu Jan  1 01:01:06 1970\n",
      "Thu Jan  1 01:01:06 1970\n",
      "Thu Jan  1 01:01:07 1970\n",
      "Thu Jan  1 01:01:07 1970\n",
      "Thu Jan  1 01:01:07 1970\n",
      "Thu Jan  1 01:01:07 1970\n",
      "Thu Jan  1 01:01:07 1970\n",
      "Thu Jan  1 01:01:08 1970\n",
      "Thu Jan  1 01:01:08 1970\n",
      "Thu Jan  1 01:01:08 1970\n",
      "Thu Jan  1 01:01:08 1970\n",
      "Thu Jan  1 01:01:08 1970\n",
      "Thu Jan  1 01:01:09 1970\n",
      "Thu Jan  1 01:01:09 1970\n",
      "Thu Jan  1 01:01:09 1970\n",
      "Thu Jan  1 01:01:09 1970\n",
      "Thu Jan  1 01:01:09 1970\n",
      "Thu Jan  1 01:01:10 1970\n",
      "Thu Jan  1 01:01:10 1970\n",
      "Thu Jan  1 01:01:10 1970\n",
      "Thu Jan  1 01:01:10 1970\n",
      "Thu Jan  1 01:01:10 1970\n",
      "Thu Jan  1 01:01:11 1970\n",
      "Thu Jan  1 01:01:11 1970\n",
      "Thu Jan  1 01:01:11 1970\n",
      "Thu Jan  1 01:01:11 1970\n",
      "Thu Jan  1 01:01:11 1970\n",
      "Thu Jan  1 01:01:12 1970\n",
      "Thu Jan  1 01:01:12 1970\n",
      "Thu Jan  1 01:01:12 1970\n",
      "Thu Jan  1 01:01:12 1970\n",
      "Thu Jan  1 01:01:12 1970\n",
      "Thu Jan  1 01:01:13 1970\n",
      "Thu Jan  1 01:01:13 1970\n",
      "Thu Jan  1 01:01:13 1970\n",
      "Thu Jan  1 01:01:13 1970\n",
      "Thu Jan  1 01:01:13 1970\n",
      "Thu Jan  1 01:01:14 1970\n",
      "Thu Jan  1 01:01:14 1970\n",
      "Thu Jan  1 01:01:14 1970\n",
      "Thu Jan  1 01:01:14 1970\n",
      "Thu Jan  1 01:01:14 1970\n",
      "Thu Jan  1 01:01:15 1970\n",
      "Thu Jan  1 01:01:15 1970\n",
      "Thu Jan  1 01:01:15 1970\n",
      "Thu Jan  1 01:01:15 1970\n",
      "Thu Jan  1 01:01:15 1970\n",
      "Thu Jan  1 01:01:16 1970\n",
      "Thu Jan  1 01:01:16 1970\n",
      "Thu Jan  1 01:01:16 1970\n",
      "Thu Jan  1 01:01:16 1970\n",
      "Thu Jan  1 01:01:16 1970\n",
      "Thu Jan  1 01:01:17 1970\n",
      "Thu Jan  1 01:01:17 1970\n",
      "Thu Jan  1 01:01:17 1970\n",
      "Thu Jan  1 01:01:17 1970\n",
      "Thu Jan  1 01:01:17 1970\n",
      "Thu Jan  1 01:01:18 1970\n",
      "Thu Jan  1 01:01:18 1970\n",
      "Thu Jan  1 01:01:18 1970\n",
      "Thu Jan  1 01:01:18 1970\n",
      "Thu Jan  1 01:01:18 1970\n",
      "Thu Jan  1 01:01:19 1970\n",
      "Thu Jan  1 01:01:19 1970\n",
      "Thu Jan  1 01:01:19 1970\n",
      "Thu Jan  1 01:01:19 1970\n",
      "Thu Jan  1 01:01:19 1970\n",
      "Thu Jan  1 01:01:20 1970\n",
      "Thu Jan  1 01:01:20 1970\n",
      "Thu Jan  1 01:01:20 1970\n",
      "Thu Jan  1 01:01:20 1970\n",
      "Thu Jan  1 01:01:20 1970\n",
      "Thu Jan  1 01:01:21 1970\n",
      "Thu Jan  1 01:01:21 1970\n",
      "Thu Jan  1 01:01:21 1970\n",
      "Thu Jan  1 01:01:21 1970\n",
      "Thu Jan  1 01:01:21 1970\n",
      "Thu Jan  1 01:01:22 1970\n",
      "Thu Jan  1 01:01:22 1970\n",
      "Thu Jan  1 01:01:22 1970\n",
      "Thu Jan  1 01:01:22 1970\n",
      "Thu Jan  1 01:01:22 1970\n",
      "Thu Jan  1 01:01:23 1970\n",
      "Thu Jan  1 01:01:23 1970\n",
      "Thu Jan  1 01:01:23 1970\n",
      "Thu Jan  1 01:01:23 1970\n",
      "Thu Jan  1 01:01:23 1970\n",
      "Thu Jan  1 01:01:24 1970\n",
      "Thu Jan  1 01:01:24 1970\n",
      "Thu Jan  1 01:01:24 1970\n",
      "Thu Jan  1 01:01:24 1970\n",
      "Thu Jan  1 01:01:24 1970\n",
      "Thu Jan  1 01:01:25 1970\n",
      "Thu Jan  1 01:01:25 1970\n",
      "Thu Jan  1 01:01:25 1970\n",
      "Thu Jan  1 01:01:25 1970\n",
      "Thu Jan  1 01:01:25 1970\n",
      "Thu Jan  1 01:01:26 1970\n",
      "Thu Jan  1 01:01:26 1970\n",
      "Thu Jan  1 01:01:26 1970\n",
      "Thu Jan  1 01:01:26 1970\n",
      "Thu Jan  1 01:01:26 1970\n",
      "Thu Jan  1 01:01:27 1970\n",
      "Thu Jan  1 01:01:27 1970\n",
      "Thu Jan  1 01:01:27 1970\n",
      "Thu Jan  1 01:01:27 1970\n",
      "Thu Jan  1 01:01:27 1970\n",
      "Thu Jan  1 01:01:28 1970\n",
      "Thu Jan  1 01:01:28 1970\n",
      "Thu Jan  1 01:01:28 1970\n",
      "Thu Jan  1 01:01:28 1970\n",
      "Thu Jan  1 01:01:28 1970\n",
      "Thu Jan  1 01:01:29 1970\n",
      "Thu Jan  1 01:01:29 1970\n",
      "Thu Jan  1 01:01:29 1970\n",
      "Thu Jan  1 01:01:29 1970\n",
      "Thu Jan  1 01:01:29 1970\n",
      "Thu Jan  1 01:01:30 1970\n",
      "Thu Jan  1 01:01:30 1970\n",
      "Thu Jan  1 01:01:30 1970\n",
      "Thu Jan  1 01:01:30 1970\n",
      "Thu Jan  1 01:01:30 1970\n",
      "Thu Jan  1 01:01:31 1970\n",
      "Thu Jan  1 01:01:31 1970\n",
      "Thu Jan  1 01:01:31 1970\n",
      "Thu Jan  1 01:01:31 1970\n",
      "Thu Jan  1 01:01:31 1970\n",
      "Thu Jan  1 01:01:32 1970\n",
      "Thu Jan  1 01:01:32 1970\n",
      "Thu Jan  1 01:01:32 1970\n",
      "Thu Jan  1 01:01:32 1970\n",
      "Thu Jan  1 01:01:32 1970\n",
      "Thu Jan  1 01:01:33 1970\n",
      "Thu Jan  1 01:01:33 1970\n",
      "Thu Jan  1 01:01:33 1970\n",
      "Thu Jan  1 01:01:33 1970\n",
      "Thu Jan  1 01:01:33 1970\n",
      "Thu Jan  1 01:01:34 1970\n",
      "Thu Jan  1 01:01:34 1970\n",
      "Thu Jan  1 01:01:34 1970\n",
      "Thu Jan  1 01:01:34 1970\n",
      "Thu Jan  1 01:01:34 1970\n",
      "Thu Jan  1 01:01:35 1970\n",
      "Thu Jan  1 01:01:35 1970\n",
      "Thu Jan  1 01:01:35 1970\n",
      "Thu Jan  1 01:01:35 1970\n",
      "Thu Jan  1 01:01:35 1970\n",
      "Thu Jan  1 01:01:36 1970\n",
      "Thu Jan  1 01:01:36 1970\n",
      "Thu Jan  1 01:01:36 1970\n",
      "Thu Jan  1 01:01:36 1970\n",
      "Thu Jan  1 01:01:36 1970\n",
      "Thu Jan  1 01:01:37 1970\n",
      "Thu Jan  1 01:01:37 1970\n",
      "Thu Jan  1 01:01:37 1970\n",
      "Thu Jan  1 01:01:37 1970\n",
      "Thu Jan  1 01:01:37 1970\n",
      "Thu Jan  1 01:01:38 1970\n",
      "Thu Jan  1 01:01:38 1970\n",
      "Thu Jan  1 01:01:38 1970\n",
      "Thu Jan  1 01:01:38 1970\n",
      "Thu Jan  1 01:01:38 1970\n",
      "Thu Jan  1 01:01:39 1970\n",
      "Thu Jan  1 01:01:39 1970\n",
      "Thu Jan  1 01:01:39 1970\n",
      "Thu Jan  1 01:01:39 1970\n",
      "Thu Jan  1 01:01:39 1970\n",
      "Thu Jan  1 01:01:40 1970\n"
     ]
    }
   ],
   "source": [
    "for timestamp in controller.SNN_call_history:\n",
    "    print(datetime.datetime.fromtimestamp(timestamp).strftime('%c'))"
   ]
  }
 ],
 "metadata": {
  "kernelspec": {
   "display_name": ".venv",
   "language": "python",
   "name": "python3"
  },
  "language_info": {
   "codemirror_mode": {
    "name": "ipython",
    "version": 3
   },
   "file_extension": ".py",
   "mimetype": "text/x-python",
   "name": "python",
   "nbconvert_exporter": "python",
   "pygments_lexer": "ipython3",
   "version": "3.12.9"
  }
 },
 "nbformat": 4,
 "nbformat_minor": 4
}
